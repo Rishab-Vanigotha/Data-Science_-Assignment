{
 "cells": [
  {
   "cell_type": "code",
   "execution_count": 16,
   "metadata": {},
   "outputs": [],
   "source": [
    "# load libraries\n",
    "import pandas as pd\n",
    "import numpy as np\n",
    "import matplotlib.pyplot as plt\n",
    "import seaborn as sns"
   ]
  },
  {
   "cell_type": "code",
   "execution_count": 17,
   "metadata": {},
   "outputs": [],
   "source": [
    "# import data\n",
    "df = pd.read_excel('DS - Assignment Part 1 data set.xlsx')\n",
    "#remane columns\n",
    "df.rename(columns={'Distance from nearest Metro station (km)':'nearest Metro(km)','House price of unit area': 'Price'}, inplace=True)"
   ]
  },
  {
   "cell_type": "code",
   "execution_count": 18,
   "metadata": {},
   "outputs": [],
   "source": [
    "df.drop('Transaction date', axis=1, inplace=True)"
   ]
  },
  {
   "cell_type": "code",
   "execution_count": 19,
   "metadata": {},
   "outputs": [],
   "source": [
    "X = df.drop('Price', axis=1)\n",
    "y = df['Price']\n",
    "\n",
    "# split data into train and test\n",
    "from sklearn.model_selection import train_test_split\n",
    "X_train, X_test, y_train, y_test = train_test_split(X, y, test_size=0.2, random_state=42)\n",
    "\n",
    "#scale data\n",
    "# from sklearn.preprocessing import StandardScaler\n",
    "# scaler = StandardScaler()\n",
    "# X_train = scaler.fit_transform(X_train)\n",
    "# X_test = scaler.transform(X_test)"
   ]
  },
  {
   "cell_type": "code",
   "execution_count": 24,
   "metadata": {},
   "outputs": [
    {
     "name": "stderr",
     "output_type": "stream",
     "text": [
      "100%|██████████| 41/41 [00:03<00:00, 13.05it/s]\n"
     ]
    }
   ],
   "source": [
    "# lazy predict\n",
    "from lazypredict.Supervised import LazyRegressor\n",
    "reg = LazyRegressor(verbose=0, ignore_warnings=True, custom_metric=None)\n",
    "models, predictions = reg.fit(X_train, X_test, y_train, y_test)"
   ]
  },
  {
   "cell_type": "code",
   "execution_count": 25,
   "metadata": {},
   "outputs": [
    {
     "name": "stdout",
     "output_type": "stream",
     "text": [
      "                               Adjusted R-Squared  R-Squared  RMSE  Time Taken\n",
      "Model                                                                         \n",
      "ExtraTreesRegressor                          0.79       0.81  5.62        0.37\n",
      "RandomForestRegressor                        0.78       0.80  5.85        0.35\n",
      "HistGradientBoostingRegressor                0.78       0.79  5.87        0.30\n",
      "LGBMRegressor                                0.77       0.79  6.00        0.07\n",
      "BaggingRegressor                             0.76       0.78  6.01        0.05\n",
      "GradientBoostingRegressor                    0.76       0.78  6.13        0.17\n",
      "XGBRegressor                                 0.74       0.76  6.31        0.30\n",
      "AdaBoostRegressor                            0.71       0.74  6.63        0.16\n",
      "KNeighborsRegressor                          0.69       0.72  6.90        0.02\n",
      "PoissonRegressor                             0.68       0.71  6.99        0.02\n",
      "ExtraTreeRegressor                           0.66       0.69  7.26        0.01\n",
      "OrthogonalMatchingPursuitCV                  0.65       0.68  7.37        0.03\n",
      "LassoLarsCV                                  0.63       0.67  7.48        0.03\n",
      "LarsCV                                       0.63       0.67  7.48        0.02\n",
      "LassoCV                                      0.63       0.67  7.49        0.08\n",
      "LassoLarsIC                                  0.63       0.66  7.50        0.02\n",
      "ElasticNetCV                                 0.63       0.66  7.51        0.10\n",
      "BayesianRidge                                0.63       0.66  7.52        0.02\n",
      "RidgeCV                                      0.63       0.66  7.52        0.02\n",
      "SGDRegressor                                 0.63       0.66  7.52        0.02\n",
      "Ridge                                        0.63       0.66  7.54        0.02\n",
      "Lasso                                        0.63       0.66  7.54        0.01\n",
      "TransformedTargetRegressor                   0.63       0.66  7.54        0.01\n",
      "Lars                                         0.63       0.66  7.54        0.02\n",
      "LinearRegression                             0.63       0.66  7.54        0.01\n",
      "HuberRegressor                               0.62       0.66  7.60        0.03\n",
      "LinearSVR                                    0.60       0.64  7.80        0.01\n",
      "ElasticNet                                   0.60       0.63  7.88        0.02\n",
      "DecisionTreeRegressor                        0.60       0.63  7.88        0.02\n",
      "SVR                                          0.58       0.62  8.01        0.02\n",
      "NuSVR                                        0.58       0.61  8.06        0.02\n",
      "GammaRegressor                               0.57       0.61  8.09        0.02\n",
      "TweedieRegressor                             0.56       0.60  8.22        0.02\n",
      "OrthogonalMatchingPursuit                    0.50       0.54  8.79        0.02\n",
      "RANSACRegressor                              0.45       0.49  9.21        0.09\n",
      "PassiveAggressiveRegressor                   0.44       0.49  9.28        0.01\n",
      "MLPRegressor                                -0.01       0.08 12.45        0.54\n",
      "DummyRegressor                              -0.12      -0.03 13.11        0.01\n",
      "LassoLars                                   -0.12      -0.03 13.11        0.01\n",
      "GaussianProcessRegressor                    -2.53      -2.23 23.28        0.03\n",
      "KernelRidge                                 -8.84      -8.00 38.85        0.02\n"
     ]
    }
   ],
   "source": [
    "# print result\n",
    "print(models)"
   ]
  }
 ],
 "metadata": {
  "kernelspec": {
   "display_name": "Python 3.8.0 64-bit",
   "language": "python",
   "name": "python3"
  },
  "language_info": {
   "codemirror_mode": {
    "name": "ipython",
    "version": 3
   },
   "file_extension": ".py",
   "mimetype": "text/x-python",
   "name": "python",
   "nbconvert_exporter": "python",
   "pygments_lexer": "ipython3",
   "version": "3.8.0"
  },
  "orig_nbformat": 4,
  "vscode": {
   "interpreter": {
    "hash": "494deeb4eea7fb63b62f74ba02ace728543e0003fbb675bfec79f4f4980c3f04"
   }
  }
 },
 "nbformat": 4,
 "nbformat_minor": 2
}
