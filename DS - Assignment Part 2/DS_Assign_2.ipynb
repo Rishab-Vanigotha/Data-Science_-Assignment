{
 "cells": [
  {
   "cell_type": "code",
   "execution_count": 349,
   "metadata": {},
   "outputs": [],
   "source": [
    "# import libraries\n",
    "import pandas as pd\n",
    "import numpy as np\n",
    "import matplotlib.pyplot as plt\n",
    "import seaborn as sns\n",
    "\n",
    "# read the data set\n",
    "df1 = pd.read_csv(r'C:\\Users\\DELL\\Desktop\\DS-assignment\\DS - Assignment Part 2 data set\\amz_com-ecommerce_sample.csv',encoding= 'unicode_escape')\n",
    "df2 = pd.read_csv(r'C:\\Users\\DELL\\Desktop\\DS-assignment\\DS - Assignment Part 2 data set\\flipkart_com-ecommerce_sample.csv', encoding= 'unicode_escape')"
   ]
  },
  {
   "cell_type": "code",
   "execution_count": 350,
   "metadata": {},
   "outputs": [
    {
     "data": {
      "text/plain": [
       "Index(['uniq_id', 'crawl_timestamp', 'product_url', 'product_name',\n",
       "       'product_category_tree', 'pid', 'retail_price', 'discounted_price',\n",
       "       'image', 'is_FK_Advantage_product', 'description', 'product_rating',\n",
       "       'overall_rating', 'brand', 'product_specifications'],\n",
       "      dtype='object')"
      ]
     },
     "execution_count": 350,
     "metadata": {},
     "output_type": "execute_result"
    }
   ],
   "source": [
    "df1.columns"
   ]
  },
  {
   "cell_type": "code",
   "execution_count": 351,
   "metadata": {},
   "outputs": [
    {
     "data": {
      "text/html": [
       "<div>\n",
       "<style scoped>\n",
       "    .dataframe tbody tr th:only-of-type {\n",
       "        vertical-align: middle;\n",
       "    }\n",
       "\n",
       "    .dataframe tbody tr th {\n",
       "        vertical-align: top;\n",
       "    }\n",
       "\n",
       "    .dataframe thead th {\n",
       "        text-align: right;\n",
       "    }\n",
       "</style>\n",
       "<table border=\"1\" class=\"dataframe\">\n",
       "  <thead>\n",
       "    <tr style=\"text-align: right;\">\n",
       "      <th></th>\n",
       "      <th>product_url</th>\n",
       "      <th>product_name</th>\n",
       "      <th>product_category_tree</th>\n",
       "      <th>pid</th>\n",
       "      <th>retail_price</th>\n",
       "      <th>discounted_price</th>\n",
       "      <th>image</th>\n",
       "      <th>is_FK_Advantage_product</th>\n",
       "      <th>description</th>\n",
       "      <th>product_rating</th>\n",
       "      <th>overall_rating</th>\n",
       "      <th>brand</th>\n",
       "      <th>product_specifications</th>\n",
       "    </tr>\n",
       "  </thead>\n",
       "  <tbody>\n",
       "    <tr>\n",
       "      <th>0</th>\n",
       "      <td>http://www.flipkart.com/alisha-solid-women-s-cycling-shorts/p/itmeh2ffvzetthbb?pid=SRTEH2FF9KEDEFGF</td>\n",
       "      <td>Alisha Solid Women's Cycling Shorts</td>\n",
       "      <td>[\"Clothing &gt;&gt; Women's Clothing &gt;&gt; Lingerie, Sleep &amp; Swimwear &gt;&gt; Shorts &gt;&gt; Alisha Shorts &gt;&gt; Alisha Solid Women's Cycling Shorts\"]</td>\n",
       "      <td>SRTEH2FF9KEDEFGF</td>\n",
       "      <td>982</td>\n",
       "      <td>438</td>\n",
       "      <td>[\"http://img5a.flixcart.com/image/short/u/4/a/altht-3p-21-alisha-38-original-imaeh2d5vm5zbtgg.jpeg\", \"http://img5a.flixcart.com/image/short/p/j/z/altght4p-26-alisha-38-original-imaeh2d5kbufss6n.jpeg\", \"http://img5a.flixcart.com/image/short/p/j/z/altght4p-26-alisha-38-original-imaeh2d5npdybzyt.jpeg\", \"http://img5a.flixcart.com/image/short/z/j/7/altght-7-alisha-38-original-imaeh2d5jsz2ghd6.jpeg\"]</td>\n",
       "      <td>False</td>\n",
       "      <td>Key Features of Alisha Solid Women's Cycling Shorts Cotton Lycra Navy, Red, Navy,Specifications of Alisha Solid Women's Cycling Shorts Shorts Details Number of Contents in Sales Package Pack of 3 Fabric Cotton Lycra Type Cycling Shorts General Details Pattern Solid Ideal For Women's Fabric Care Gentle Machine Wash in Lukewarm Water, Do Not Bleach Additional Details Style Code ALTHT_3P_21 In the Box 3 shorts</td>\n",
       "      <td>No rating available</td>\n",
       "      <td>No rating available</td>\n",
       "      <td>Alisha</td>\n",
       "      <td>{\"product_specification\"=&gt;[{\"key\"=&gt;\"Number of Contents in Sales Package\", \"value\"=&gt;\"Pack of 3\"}, {\"key\"=&gt;\"Fabric\", \"value\"=&gt;\"Cotton Lycra\"}, {\"key\"=&gt;\"Type\", \"value\"=&gt;\"Cycling Shorts\"}, {\"key\"=&gt;\"Pattern\", \"value\"=&gt;\"Solid\"}, {\"key\"=&gt;\"Ideal For\", \"value\"=&gt;\"Women's\"}, {\"value\"=&gt;\"Gentle Machine Wash in Lukewarm Water, Do Not Bleach\"}, {\"key\"=&gt;\"Style Code\", \"value\"=&gt;\"ALTHT_3P_21\"}, {\"value\"=&gt;\"3 shorts\"}]}</td>\n",
       "    </tr>\n",
       "    <tr>\n",
       "      <th>1</th>\n",
       "      <td>http://www.flipkart.com/fabhomedecor-fabric-double-sofa-bed/p/itmeh3qgfamccfpy?pid=SBEEH3QGU7MFYJFY</td>\n",
       "      <td>FabHomeDecor Fabric Double Sofa Bed</td>\n",
       "      <td>[\"Furniture &gt;&gt; Living Room Furniture &gt;&gt; Sofa Beds &amp; Futons &gt;&gt; FabHomeDecor Fabric Double Sofa Bed (Finish Colo...\"]</td>\n",
       "      <td>SBEEH3QGU7MFYJFY</td>\n",
       "      <td>32143</td>\n",
       "      <td>29121</td>\n",
       "      <td>[\"http://img6a.flixcart.com/image/sofa-bed/j/f/y/fhd112-double-foam-fabhomedecor-leatherette-black-leatherette-1100x1100-imaeh3gemjjcg9ta.jpeg\", \"http://img6a.flixcart.com/image/sofa-bed/j/f/y/fhd112-double-foam-fabhomedecor-leatherette-black-leatherette-original-imaeh3gemjjcg9ta.jpeg\", \"http://img6a.flixcart.com/image/sofa-bed/j/f/y/fhd112-double-foam-fabhomedecor-leatherette-black-leatherette-original-imaeh3genfxkqvuv.jpeg\", \"http://img5a.flixcart.com/image/sofa-bed/j/f/y/fhd112-double-foam-fabhomedecor-leatherette-black-leatherette-original-imaeh3ge2sfeczef.jpeg\", \"http://img5a.flixcart.com/image/sofa-bed/j/f/y/fhd112-double-foam-fabhomedecor-leatherette-black-leatherette-original-imaeh3geuy7d74g2.jpeg\", \"http://img5a.flixcart.com/image/sofa-bed/j/f/y/fhd112-double-foam-fabhomedecor-leatherette-black-leatherette-original-imaeh3gerfhdxzwj.jpeg\"]</td>\n",
       "      <td>False</td>\n",
       "      <td>FabHomeDecor Fabric Double Sofa Bed (Finish Color - Leatherette Black Mechanism Type - Pull Out) Price: Rs. 22,646 â¢ Fine deep seating experience â¢ Save Space with the all new click clack Sofa Bed â¢ Easy to fold and vice versa with simple click clack mechanism â¢ Chrome legs with mango wood frame for long term durability â¢ Double cushioned Sofa Bed to provide you with extra softness to make a fine seating experience â¢ A double bed that can easily sleep two,Specifications of FabHomeDecor Fabric Double Sofa Bed (Finish Color - Leatherette Black Mechanism Type - Pull Out) Installation &amp; Demo Installation &amp; Demo Details Installation and demo for this product is done free of cost as part of this purchase. Our service partner will visit your location within 72 business hours from the delivery of the product. In The Box 1 Sofa Bed General Brand FabHomeDecor Mattress Included No Delivery Condition Knock Down Storage Included No Mechanism Type Pull Out Type Sofa Bed Style Contemporary &amp; Modern Filling Material Microfiber Seating Capacity 3 Seater Upholstery Type NA Upholstery Included No Bed Size Double Shape Square Suitable For Living Room Model Number FHD112 Care Instructions Avoid outdoor use and exposure to water or prolonged moisture, Avoid exposure to direct heat or sunlight as this can cause the sofa colour to fade, Keep sharp objects away from your sofa, A little tear on the fabric cover may be hard to repair, Vacuum your sofas periodically with a soft bristled bru...View More Avoid outdoor use and exposure to water or prolonged moisture, Avoid exposure to direct heat or sunlight as this can cause the sofa colour to fade, Keep sharp objects away from your sofa, A little tear on the fabric cover may be hard to repair, Vacuum your sofas periodically with a soft bristled brush attachment or lightly brush them to keep general dirt and dust off the sofa and prevent any embedding between the fibres, Try to avoid food and drink spillage of any kind, If spills occur, do not leave unattended, In case of a stain, a water-free fabric cleaner can be used, However, avoid applying the cleaner directly on the stain as this can cause damage to the fabric and fade colour, Pour the cleaner onto a clean cloth and test its effect on a hidden area of the sofa before cleaning the stain with the cloth, A professional scotchguard treatment is one of the easiest and most effective options to protect against spills or stains and keep pet hair at bay, Getting your sofa professionally cleaned once every 6-8 months will not only take care of the nooks and corners that you can't reach, it will also make it more durable Finish Type Matte Important Note Cancellation NOT allowed for this product after 24 hrs of order booking. Warranty Covered in Warranty Warranty covers all kind of manufacturing defects. Concerned product will either be repaired or replaced based on discretion. Service Type Manufacturer Warranty Warranty Summary 6 Months Domestic Warranty Not Covered in Warranty Warranty does not cover for Improper Handling Dimensions Weight 40 kg Height 838 mm Width 1905 mm Depth 939 mm Disclaimer - The color of the product may vary slightly compared to the picture displayed on your screen. This is due to lighting, pixel quality and color settings - Please check the product's dimensions to ensure the product will fit in the desired location. Also, check if the product will fit through...View More - The color of the product may vary slightly compared to the picture displayed on your screen. This is due to lighting, pixel quality and color settings - Please check the product's dimensions to ensure the product will fit in the desired location. Also, check if the product will fit through the entrance(s) and door(s) of the premises - Please expect an unevenness of up to 5 mm in the product due to differences in surfaces and floor levels - Flipkart, or the Seller delivering the product, will not take up any type of civil work, such as drilling holes in the wall to mount the product. The product will only be assembled in case carpentry assembly is required - In case the product appears to lack shine, wiping the surface with a cloth will help clear the surface of dust particles Material &amp; Color Upholstery Color Leatherette Black Primary Color Black Primary Material Fabric Secondary Material Subtype Mango Wood Secondary Material Foam Finish Color Leatherette Black Primary Material Subtype Foam</td>\n",
       "      <td>No rating available</td>\n",
       "      <td>No rating available</td>\n",
       "      <td>FabHomeDecor</td>\n",
       "      <td>{\"product_specification\"=&gt;[{\"key\"=&gt;\"Installation &amp; Demo Details\", \"value\"=&gt;\"Installation and demo for this product is done free of cost as part of this purchase. Our service partner will visit your location within 72 business hours from the delivery of the product.\"}, {\"value\"=&gt;\"1 Sofa Bed\"}, {\"key\"=&gt;\"Brand\", \"value\"=&gt;\"FabHomeDecor\"}, {\"key\"=&gt;\"Mattress Included\", \"value\"=&gt;\"No\"}, {\"key\"=&gt;\"Delivery Condition\", \"value\"=&gt;\"Knock Down\"}, {\"key\"=&gt;\"Storage Included\", \"value\"=&gt;\"No\"}, {\"key\"=&gt;\"Mechanism Type\", \"value\"=&gt;\"Pull Out\"}, {\"key\"=&gt;\"Type\", \"value\"=&gt;\"Sofa Bed\"}, {\"key\"=&gt;\"Style\", \"value\"=&gt;\"Contemporary and Modern\"}, {\"key\"=&gt;\"Filling Material\", \"value\"=&gt;\"Microfiber\"}, {\"key\"=&gt;\"Seating Capacity\", \"value\"=&gt;\"3 Seater\"}, {\"key\"=&gt;\"Upholstery Type\", \"value\"=&gt;\"NA\"}, {\"key\"=&gt;\"Upholstery Included\", \"value\"=&gt;\"No\"}, {\"key\"=&gt;\"Bed Size\", \"value\"=&gt;\"Double\"}, {\"key\"=&gt;\"Shape\", \"value\"=&gt;\"Square\"}, {\"key\"=&gt;\"Suitable For\", \"value\"=&gt;\"Living Room\"}, {\"key\"=&gt;\"Model Number\", \"value\"=&gt;\"FHD112\"}, {\"key\"=&gt;\"Care Instructions\", \"value\"=&gt;\"Avoid outdoor use and exposure to water or prolonged moisture, Avoid exposure to direct heat or sunlight as this can cause the sofa colour to fade, Keep sharp objects away from your sofa, A little tear on the fabric cover may be hard to repair, Vacuum your sofas periodically with a soft bristled bru...View More Avoid outdoor use and exposure to water or prolonged moisture, Avoid exposure to direct heat or sunlight as this can cause the sofa colour to fade, Keep sharp objects away from your sofa, A little tear on the fabric cover may be hard to repair, Vacuum your sofas periodically with a soft bristled brush attachment or lightly brush them to keep general dirt and dust off the sofa and prevent any embedding between the fibres, Try to avoid food and drink spillage of any kind, If spills occur, do not leave unattended, In case of a stain, a water-free fabric cleaner can be used, However, avoid applying the cleaner directly on the stain as this can cause damage to the fabric and fade colour, Pour the cleaner onto a clean cloth and test its effect on a hidden area of the sofa before cleaning the stain with the cloth, A professional scotchguard treatment is one of the easiest and most effective options to protect against spills or stains and keep pet hair at bay, Getting your sofa professionally cleaned once every 6-8 months will not only take care of the nooks and corners that you can't reach, it will also make it more durable\"}, {\"key\"=&gt;\"Finish Type\", \"value\"=&gt;\"Matte\"}, {\"value\"=&gt;\"Cancellation NOT allowed for this product after 24 hrs of order booking.\"}, {\"value\"=&gt;\"- The color of the product may vary slightly compared to the picture displayed on your screen. This is due to lighting, pixel quality and color settings - Please check the product's dimensions to ensure the product will fit in the desired location. Also, check if the product will fit through...View More - The color of the product may vary slightly compared to the picture displayed on your screen. This is due to lighting, pixel quality and color settings - Please check the product's dimensions to ensure the product will fit in the desired location. Also, check if the product will fit through the entrance(s) and door(s) of the premises - Please expect an unevenness of up to 5 mm in the product due to differences in surfaces and floor levels - Flipkart, or the Seller delivering the product, will not take up any type of civil work, such as drilling holes in the wall to mount the product. The product will only be assembled in case carpentry assembly is required - In case the product appears to lack shine, wiping the surface with a cloth will help clear the surface of dust particles\"}, {\"key\"=&gt;\"Covered in Warranty\", \"value\"=&gt;\"Warranty covers all kind of manufacturing defects. Concerned product will either be repaired or replaced based on discretion.\"}, {\"key\"=&gt;\"Service Type\", \"value\"=&gt;\"Manufacturer Warranty\"}, {\"key\"=&gt;\"Warranty Summary\", \"value\"=&gt;\"6 Months Domestic Warranty\"}, {\"key\"=&gt;\"Not Covered in Warranty\", \"value\"=&gt;\"Warranty does not cover for Improper Handling\"}, {\"key\"=&gt;\"Weight\", \"value\"=&gt;\"40 kg\"}, {\"key\"=&gt;\"Height\", \"value\"=&gt;\"838 mm\"}, {\"key\"=&gt;\"Width\", \"value\"=&gt;\"1905 mm\"}, {\"key\"=&gt;\"Depth\", \"value\"=&gt;\"939 mm\"}, {\"key\"=&gt;\"Upholstery Color\", \"value\"=&gt;\"Leatherette Black\"}, {\"key\"=&gt;\"Primary Color\", \"value\"=&gt;\"Black\"}, {\"key\"=&gt;\"Primary Material\", \"value\"=&gt;\"Fabric\"}, {\"key\"=&gt;\"Secondary Material Subtype\", \"value\"=&gt;\"Mango Wood\"}, {\"key\"=&gt;\"Secondary Material\", \"value\"=&gt;\"Foam\"}, {\"key\"=&gt;\"Finish Color\", \"value\"=&gt;\"Leatherette Black\"}, {\"key\"=&gt;\"Primary Material Subtype\", \"value\"=&gt;\"Foam\"}]}</td>\n",
       "    </tr>\n",
       "    <tr>\n",
       "      <th>2</th>\n",
       "      <td>http://www.flipkart.com/aw-bellies/p/itmeh4grgfbkexnt?pid=SHOEH4GRSUBJGZXE</td>\n",
       "      <td>AW Bellies</td>\n",
       "      <td>[\"Footwear &gt;&gt; Women's Footwear &gt;&gt; Ballerinas &gt;&gt; AW Bellies\"]</td>\n",
       "      <td>SHOEH4GRSUBJGZXE</td>\n",
       "      <td>991</td>\n",
       "      <td>551</td>\n",
       "      <td>[\"http://img5a.flixcart.com/image/shoe/7/z/z/red-as-454-aw-11-original-imaeebfwsdf6jdf6.jpeg\", \"http://img6a.flixcart.com/image/shoe/7/z/z/red-as-454-aw-11-original-imaeebfwsdf6jdf6.jpeg\", \"http://img5a.flixcart.com/image/shoe/7/z/z/red-as-454-aw-11-original-imaeebfwt8zqc5cy.jpeg\", \"http://img5a.flixcart.com/image/shoe/7/z/z/red-as-454-aw-11-original-imaeebfwhz5f8v6m.jpeg\", \"http://img6a.flixcart.com/image/shoe/7/z/z/red-as-454-aw-11-original-imaeeducshzc6pbz.jpeg\", \"http://img6a.flixcart.com/image/shoe/7/z/z/red-as-454-aw-11-original-imaeebfw2veeuz8s.jpeg\"]</td>\n",
       "      <td>False</td>\n",
       "      <td>Key Features of AW Bellies Sandals Wedges Heel Casuals,AW Bellies Price: Rs. 499 Material: Synthetic Lifestyle: Casual Heel Type: Wedge Warranty Type: Manufacturer Product Warranty against manufacturing defects: 30 days Care instructions: Allow your pair of shoes to air and de-odorize at regular basis; use shoe bags to prevent any stains or mildew; dust any dry dirt from the surface using a clean cloth; do not use polish or shiner,Specifications of AW Bellies General Ideal For Women Occasion Casual Shoe Details Color Red Outer Material Patent Leather Heel Height 1 inch Number of Contents in Sales Package Pack of 1 In the Box One Pair Of Shoes</td>\n",
       "      <td>No rating available</td>\n",
       "      <td>No rating available</td>\n",
       "      <td>AW</td>\n",
       "      <td>{\"product_specification\"=&gt;[{\"key\"=&gt;\"Ideal For\", \"value\"=&gt;\"Women\"}, {\"key\"=&gt;\"Occasion\", \"value\"=&gt;\"Casual\"}, {\"key\"=&gt;\"Color\", \"value\"=&gt;\"Red\"}, {\"key\"=&gt;\"Outer Material\", \"value\"=&gt;\"Patent Leather\"}, {\"key\"=&gt;\"Heel Height\", \"value\"=&gt;\"1 inch\"}, {\"key\"=&gt;\"Number of Contents in Sales Package\", \"value\"=&gt;\"Pack of 1\"}, {\"value\"=&gt;\"One Pair Of Shoes\"}]}</td>\n",
       "    </tr>\n",
       "  </tbody>\n",
       "</table>\n",
       "</div>"
      ],
      "text/plain": [
       "                                                                                           product_url  \\\n",
       "0  http://www.flipkart.com/alisha-solid-women-s-cycling-shorts/p/itmeh2ffvzetthbb?pid=SRTEH2FF9KEDEFGF   \n",
       "1  http://www.flipkart.com/fabhomedecor-fabric-double-sofa-bed/p/itmeh3qgfamccfpy?pid=SBEEH3QGU7MFYJFY   \n",
       "2  http://www.flipkart.com/aw-bellies/p/itmeh4grgfbkexnt?pid=SHOEH4GRSUBJGZXE                            \n",
       "\n",
       "                          product_name  \\\n",
       "0  Alisha Solid Women's Cycling Shorts   \n",
       "1  FabHomeDecor Fabric Double Sofa Bed   \n",
       "2  AW Bellies                            \n",
       "\n",
       "                                                                                                              product_category_tree  \\\n",
       "0  [\"Clothing >> Women's Clothing >> Lingerie, Sleep & Swimwear >> Shorts >> Alisha Shorts >> Alisha Solid Women's Cycling Shorts\"]   \n",
       "1  [\"Furniture >> Living Room Furniture >> Sofa Beds & Futons >> FabHomeDecor Fabric Double Sofa Bed (Finish Colo...\"]                \n",
       "2  [\"Footwear >> Women's Footwear >> Ballerinas >> AW Bellies\"]                                                                       \n",
       "\n",
       "                pid  retail_price  discounted_price  \\\n",
       "0  SRTEH2FF9KEDEFGF  982           438                \n",
       "1  SBEEH3QGU7MFYJFY  32143         29121              \n",
       "2  SHOEH4GRSUBJGZXE  991           551                \n",
       "\n",
       "                                                                                                                                                                                                                                                                                                                                                                                                                                                                                                                                                                                                                                                                                                                                                                                                                                                                                         image  \\\n",
       "0  [\"http://img5a.flixcart.com/image/short/u/4/a/altht-3p-21-alisha-38-original-imaeh2d5vm5zbtgg.jpeg\", \"http://img5a.flixcart.com/image/short/p/j/z/altght4p-26-alisha-38-original-imaeh2d5kbufss6n.jpeg\", \"http://img5a.flixcart.com/image/short/p/j/z/altght4p-26-alisha-38-original-imaeh2d5npdybzyt.jpeg\", \"http://img5a.flixcart.com/image/short/z/j/7/altght-7-alisha-38-original-imaeh2d5jsz2ghd6.jpeg\"]                                                                                                                                                                                                                                                                                                                                                                                                                                                                                 \n",
       "1  [\"http://img6a.flixcart.com/image/sofa-bed/j/f/y/fhd112-double-foam-fabhomedecor-leatherette-black-leatherette-1100x1100-imaeh3gemjjcg9ta.jpeg\", \"http://img6a.flixcart.com/image/sofa-bed/j/f/y/fhd112-double-foam-fabhomedecor-leatherette-black-leatherette-original-imaeh3gemjjcg9ta.jpeg\", \"http://img6a.flixcart.com/image/sofa-bed/j/f/y/fhd112-double-foam-fabhomedecor-leatherette-black-leatherette-original-imaeh3genfxkqvuv.jpeg\", \"http://img5a.flixcart.com/image/sofa-bed/j/f/y/fhd112-double-foam-fabhomedecor-leatherette-black-leatherette-original-imaeh3ge2sfeczef.jpeg\", \"http://img5a.flixcart.com/image/sofa-bed/j/f/y/fhd112-double-foam-fabhomedecor-leatherette-black-leatherette-original-imaeh3geuy7d74g2.jpeg\", \"http://img5a.flixcart.com/image/sofa-bed/j/f/y/fhd112-double-foam-fabhomedecor-leatherette-black-leatherette-original-imaeh3gerfhdxzwj.jpeg\"]   \n",
       "2  [\"http://img5a.flixcart.com/image/shoe/7/z/z/red-as-454-aw-11-original-imaeebfwsdf6jdf6.jpeg\", \"http://img6a.flixcart.com/image/shoe/7/z/z/red-as-454-aw-11-original-imaeebfwsdf6jdf6.jpeg\", \"http://img5a.flixcart.com/image/shoe/7/z/z/red-as-454-aw-11-original-imaeebfwt8zqc5cy.jpeg\", \"http://img5a.flixcart.com/image/shoe/7/z/z/red-as-454-aw-11-original-imaeebfwhz5f8v6m.jpeg\", \"http://img6a.flixcart.com/image/shoe/7/z/z/red-as-454-aw-11-original-imaeeducshzc6pbz.jpeg\", \"http://img6a.flixcart.com/image/shoe/7/z/z/red-as-454-aw-11-original-imaeebfw2veeuz8s.jpeg\"]                                                                                                                                                                                                                                                                                                          \n",
       "\n",
       "   is_FK_Advantage_product  \\\n",
       "0  False                     \n",
       "1  False                     \n",
       "2  False                     \n",
       "\n",
       "                                                                                                                                                                                                                                                                                                                                                                                                                                                                                                                                                                                                                                                                                                                                                                                                                                                                                                                                                                                                                                                                                                                                                                                                                                                                                                                                                                                                                                                                                                                                                                                                                                                                                                                                                                                                                                                                                                                                                                                                                                                                                                                                                                                                                                                                                                                                                                                                                                                                                                                                                                                                                                                                                                                                                                                                                                                                                                                                                                                                                                                                                                                                                                                                                                                                                                                                                                                                                                                                                                                                                                                                                                                                                                                                                                                                                                                                                                                                                                                                                                                                                                                                                                                                                                                                                                                                                                                                                                                                                                                                                                                                                     description  \\\n",
       "0  Key Features of Alisha Solid Women's Cycling Shorts Cotton Lycra Navy, Red, Navy,Specifications of Alisha Solid Women's Cycling Shorts Shorts Details Number of Contents in Sales Package Pack of 3 Fabric Cotton Lycra Type Cycling Shorts General Details Pattern Solid Ideal For Women's Fabric Care Gentle Machine Wash in Lukewarm Water, Do Not Bleach Additional Details Style Code ALTHT_3P_21 In the Box 3 shorts                                                                                                                                                                                                                                                                                                                                                                                                                                                                                                                                                                                                                                                                                                                                                                                                                                                                                                                                                                                                                                                                                                                                                                                                                                                                                                                                                                                                                                                                                                                                                                                                                                                                                                                                                                                                                                                                                                                                                                                                                                                                                                                                                                                                                                                                                                                                                                                                                                                                                                                                                                                                                                                                                                                                                                                                                                                                                                                                                                                                                                                                                                                                                                                                                                                                                                                                                                                                                                                                                                                                                                                                                                                                                                                                                                                                                                                                                                                                                                                                                                                                                                                                                                                                      \n",
       "1  FabHomeDecor Fabric Double Sofa Bed (Finish Color - Leatherette Black Mechanism Type - Pull Out) Price: Rs. 22,646 â¢ Fine deep seating experience â¢ Save Space with the all new click clack Sofa Bed â¢ Easy to fold and vice versa with simple click clack mechanism â¢ Chrome legs with mango wood frame for long term durability â¢ Double cushioned Sofa Bed to provide you with extra softness to make a fine seating experience â¢ A double bed that can easily sleep two,Specifications of FabHomeDecor Fabric Double Sofa Bed (Finish Color - Leatherette Black Mechanism Type - Pull Out) Installation & Demo Installation & Demo Details Installation and demo for this product is done free of cost as part of this purchase. Our service partner will visit your location within 72 business hours from the delivery of the product. In The Box 1 Sofa Bed General Brand FabHomeDecor Mattress Included No Delivery Condition Knock Down Storage Included No Mechanism Type Pull Out Type Sofa Bed Style Contemporary & Modern Filling Material Microfiber Seating Capacity 3 Seater Upholstery Type NA Upholstery Included No Bed Size Double Shape Square Suitable For Living Room Model Number FHD112 Care Instructions Avoid outdoor use and exposure to water or prolonged moisture, Avoid exposure to direct heat or sunlight as this can cause the sofa colour to fade, Keep sharp objects away from your sofa, A little tear on the fabric cover may be hard to repair, Vacuum your sofas periodically with a soft bristled bru...View More Avoid outdoor use and exposure to water or prolonged moisture, Avoid exposure to direct heat or sunlight as this can cause the sofa colour to fade, Keep sharp objects away from your sofa, A little tear on the fabric cover may be hard to repair, Vacuum your sofas periodically with a soft bristled brush attachment or lightly brush them to keep general dirt and dust off the sofa and prevent any embedding between the fibres, Try to avoid food and drink spillage of any kind, If spills occur, do not leave unattended, In case of a stain, a water-free fabric cleaner can be used, However, avoid applying the cleaner directly on the stain as this can cause damage to the fabric and fade colour, Pour the cleaner onto a clean cloth and test its effect on a hidden area of the sofa before cleaning the stain with the cloth, A professional scotchguard treatment is one of the easiest and most effective options to protect against spills or stains and keep pet hair at bay, Getting your sofa professionally cleaned once every 6-8 months will not only take care of the nooks and corners that you can't reach, it will also make it more durable Finish Type Matte Important Note Cancellation NOT allowed for this product after 24 hrs of order booking. Warranty Covered in Warranty Warranty covers all kind of manufacturing defects. Concerned product will either be repaired or replaced based on discretion. Service Type Manufacturer Warranty Warranty Summary 6 Months Domestic Warranty Not Covered in Warranty Warranty does not cover for Improper Handling Dimensions Weight 40 kg Height 838 mm Width 1905 mm Depth 939 mm Disclaimer - The color of the product may vary slightly compared to the picture displayed on your screen. This is due to lighting, pixel quality and color settings - Please check the product's dimensions to ensure the product will fit in the desired location. Also, check if the product will fit through...View More - The color of the product may vary slightly compared to the picture displayed on your screen. This is due to lighting, pixel quality and color settings - Please check the product's dimensions to ensure the product will fit in the desired location. Also, check if the product will fit through the entrance(s) and door(s) of the premises - Please expect an unevenness of up to 5 mm in the product due to differences in surfaces and floor levels - Flipkart, or the Seller delivering the product, will not take up any type of civil work, such as drilling holes in the wall to mount the product. The product will only be assembled in case carpentry assembly is required - In case the product appears to lack shine, wiping the surface with a cloth will help clear the surface of dust particles Material & Color Upholstery Color Leatherette Black Primary Color Black Primary Material Fabric Secondary Material Subtype Mango Wood Secondary Material Foam Finish Color Leatherette Black Primary Material Subtype Foam   \n",
       "2  Key Features of AW Bellies Sandals Wedges Heel Casuals,AW Bellies Price: Rs. 499 Material: Synthetic Lifestyle: Casual Heel Type: Wedge Warranty Type: Manufacturer Product Warranty against manufacturing defects: 30 days Care instructions: Allow your pair of shoes to air and de-odorize at regular basis; use shoe bags to prevent any stains or mildew; dust any dry dirt from the surface using a clean cloth; do not use polish or shiner,Specifications of AW Bellies General Ideal For Women Occasion Casual Shoe Details Color Red Outer Material Patent Leather Heel Height 1 inch Number of Contents in Sales Package Pack of 1 In the Box One Pair Of Shoes                                                                                                                                                                                                                                                                                                                                                                                                                                                                                                                                                                                                                                                                                                                                                                                                                                                                                                                                                                                                                                                                                                                                                                                                                                                                                                                                                                                                                                                                                                                                                                                                                                                                                                                                                                                                                                                                                                                                                                                                                                                                                                                                                                                                                                                                                                                                                                                                                                                                                                                                                                                                                                                                                                                                                                                                                                                                                                                                                                                                                                                                                                                                                                                                                                                                                                                                                                                                                                                                                                                                                                                                                                                                                                                                                                                                                                                                                                                                                      \n",
       "\n",
       "        product_rating       overall_rating         brand  \\\n",
       "0  No rating available  No rating available  Alisha         \n",
       "1  No rating available  No rating available  FabHomeDecor   \n",
       "2  No rating available  No rating available  AW             \n",
       "\n",
       "                                                                                                                                                                                                                                                                                                                                                                                                                                                                                                                                                                                                                                                                                                                                                                                                                                                                                                                                                                                                                                                                                                                                                                                                                                                                                                                                                                                                                                                                                                                                                                                                                                                                                                                                                                                                                                                                                                                                                                                                                                                                                                                                                                                                                                                                                                                                                                                                                                                                                                                                                                                                                                                                                                                                                                                                                                                                                                                                                                                                                                                                                                                                                                                                                                                                                                                                                                                                                                                                                                                                                                                                                                                                                                                                                                                                                                                                                                                                                                                                                                                                                                                                                                                                                                                                                                                                                                                                                                                                                                                                                                                                                                                                                                                                                                                         product_specifications  \n",
       "0  {\"product_specification\"=>[{\"key\"=>\"Number of Contents in Sales Package\", \"value\"=>\"Pack of 3\"}, {\"key\"=>\"Fabric\", \"value\"=>\"Cotton Lycra\"}, {\"key\"=>\"Type\", \"value\"=>\"Cycling Shorts\"}, {\"key\"=>\"Pattern\", \"value\"=>\"Solid\"}, {\"key\"=>\"Ideal For\", \"value\"=>\"Women's\"}, {\"value\"=>\"Gentle Machine Wash in Lukewarm Water, Do Not Bleach\"}, {\"key\"=>\"Style Code\", \"value\"=>\"ALTHT_3P_21\"}, {\"value\"=>\"3 shorts\"}]}                                                                                                                                                                                                                                                                                                                                                                                                                                                                                                                                                                                                                                                                                                                                                                                                                                                                                                                                                                                                                                                                                                                                                                                                                                                                                                                                                                                                                                                                                                                                                                                                                                                                                                                                                                                                                                                                                                                                                                                                                                                                                                                                                                                                                                                                                                                                                                                                                                                                                                                                                                                                                                                                                                                                                                                                                                                                                                                                                                                                                                                                                                                                                                                                                                                                                                                                                                                                                                                                                                                                                                                                                                                                                                                                                                                                                                                                                                                                                                                                                                                                                                                                                                                                                                                                                                                                                                                            \n",
       "1  {\"product_specification\"=>[{\"key\"=>\"Installation & Demo Details\", \"value\"=>\"Installation and demo for this product is done free of cost as part of this purchase. Our service partner will visit your location within 72 business hours from the delivery of the product.\"}, {\"value\"=>\"1 Sofa Bed\"}, {\"key\"=>\"Brand\", \"value\"=>\"FabHomeDecor\"}, {\"key\"=>\"Mattress Included\", \"value\"=>\"No\"}, {\"key\"=>\"Delivery Condition\", \"value\"=>\"Knock Down\"}, {\"key\"=>\"Storage Included\", \"value\"=>\"No\"}, {\"key\"=>\"Mechanism Type\", \"value\"=>\"Pull Out\"}, {\"key\"=>\"Type\", \"value\"=>\"Sofa Bed\"}, {\"key\"=>\"Style\", \"value\"=>\"Contemporary and Modern\"}, {\"key\"=>\"Filling Material\", \"value\"=>\"Microfiber\"}, {\"key\"=>\"Seating Capacity\", \"value\"=>\"3 Seater\"}, {\"key\"=>\"Upholstery Type\", \"value\"=>\"NA\"}, {\"key\"=>\"Upholstery Included\", \"value\"=>\"No\"}, {\"key\"=>\"Bed Size\", \"value\"=>\"Double\"}, {\"key\"=>\"Shape\", \"value\"=>\"Square\"}, {\"key\"=>\"Suitable For\", \"value\"=>\"Living Room\"}, {\"key\"=>\"Model Number\", \"value\"=>\"FHD112\"}, {\"key\"=>\"Care Instructions\", \"value\"=>\"Avoid outdoor use and exposure to water or prolonged moisture, Avoid exposure to direct heat or sunlight as this can cause the sofa colour to fade, Keep sharp objects away from your sofa, A little tear on the fabric cover may be hard to repair, Vacuum your sofas periodically with a soft bristled bru...View More Avoid outdoor use and exposure to water or prolonged moisture, Avoid exposure to direct heat or sunlight as this can cause the sofa colour to fade, Keep sharp objects away from your sofa, A little tear on the fabric cover may be hard to repair, Vacuum your sofas periodically with a soft bristled brush attachment or lightly brush them to keep general dirt and dust off the sofa and prevent any embedding between the fibres, Try to avoid food and drink spillage of any kind, If spills occur, do not leave unattended, In case of a stain, a water-free fabric cleaner can be used, However, avoid applying the cleaner directly on the stain as this can cause damage to the fabric and fade colour, Pour the cleaner onto a clean cloth and test its effect on a hidden area of the sofa before cleaning the stain with the cloth, A professional scotchguard treatment is one of the easiest and most effective options to protect against spills or stains and keep pet hair at bay, Getting your sofa professionally cleaned once every 6-8 months will not only take care of the nooks and corners that you can't reach, it will also make it more durable\"}, {\"key\"=>\"Finish Type\", \"value\"=>\"Matte\"}, {\"value\"=>\"Cancellation NOT allowed for this product after 24 hrs of order booking.\"}, {\"value\"=>\"- The color of the product may vary slightly compared to the picture displayed on your screen. This is due to lighting, pixel quality and color settings - Please check the product's dimensions to ensure the product will fit in the desired location. Also, check if the product will fit through...View More - The color of the product may vary slightly compared to the picture displayed on your screen. This is due to lighting, pixel quality and color settings - Please check the product's dimensions to ensure the product will fit in the desired location. Also, check if the product will fit through the entrance(s) and door(s) of the premises - Please expect an unevenness of up to 5 mm in the product due to differences in surfaces and floor levels - Flipkart, or the Seller delivering the product, will not take up any type of civil work, such as drilling holes in the wall to mount the product. The product will only be assembled in case carpentry assembly is required - In case the product appears to lack shine, wiping the surface with a cloth will help clear the surface of dust particles\"}, {\"key\"=>\"Covered in Warranty\", \"value\"=>\"Warranty covers all kind of manufacturing defects. Concerned product will either be repaired or replaced based on discretion.\"}, {\"key\"=>\"Service Type\", \"value\"=>\"Manufacturer Warranty\"}, {\"key\"=>\"Warranty Summary\", \"value\"=>\"6 Months Domestic Warranty\"}, {\"key\"=>\"Not Covered in Warranty\", \"value\"=>\"Warranty does not cover for Improper Handling\"}, {\"key\"=>\"Weight\", \"value\"=>\"40 kg\"}, {\"key\"=>\"Height\", \"value\"=>\"838 mm\"}, {\"key\"=>\"Width\", \"value\"=>\"1905 mm\"}, {\"key\"=>\"Depth\", \"value\"=>\"939 mm\"}, {\"key\"=>\"Upholstery Color\", \"value\"=>\"Leatherette Black\"}, {\"key\"=>\"Primary Color\", \"value\"=>\"Black\"}, {\"key\"=>\"Primary Material\", \"value\"=>\"Fabric\"}, {\"key\"=>\"Secondary Material Subtype\", \"value\"=>\"Mango Wood\"}, {\"key\"=>\"Secondary Material\", \"value\"=>\"Foam\"}, {\"key\"=>\"Finish Color\", \"value\"=>\"Leatherette Black\"}, {\"key\"=>\"Primary Material Subtype\", \"value\"=>\"Foam\"}]}  \n",
       "2  {\"product_specification\"=>[{\"key\"=>\"Ideal For\", \"value\"=>\"Women\"}, {\"key\"=>\"Occasion\", \"value\"=>\"Casual\"}, {\"key\"=>\"Color\", \"value\"=>\"Red\"}, {\"key\"=>\"Outer Material\", \"value\"=>\"Patent Leather\"}, {\"key\"=>\"Heel Height\", \"value\"=>\"1 inch\"}, {\"key\"=>\"Number of Contents in Sales Package\", \"value\"=>\"Pack of 1\"}, {\"value\"=>\"One Pair Of Shoes\"}]}                                                                                                                                                                                                                                                                                                                                                                                                                                                                                                                                                                                                                                                                                                                                                                                                                                                                                                                                                                                                                                                                                                                                                                                                                                                                                                                                                                                                                                                                                                                                                                                                                                                                                                                                                                                                                                                                                                                                                                                                                                                                                                                                                                                                                                                                                                                                                                                                                                                                                                                                                                                                                                                                                                                                                                                                                                                                                                                                                                                                                                                                                                                                                                                                                                                                                                                                                                                                                                                                                                                                                                                                                                                                                                                                                                                                                                                                                                                                                                                                                                                                                                                                                                                                                                                                                                                                                                                                                                                          "
      ]
     },
     "execution_count": 351,
     "metadata": {},
     "output_type": "execute_result"
    }
   ],
   "source": [
    "df1.drop(['uniq_id', 'crawl_timestamp'],axis=1).loc[:2,:]"
   ]
  },
  {
   "cell_type": "code",
   "execution_count": 352,
   "metadata": {},
   "outputs": [
    {
     "data": {
      "text/plain": [
       "((20000, 15), (20000, 15))"
      ]
     },
     "execution_count": 352,
     "metadata": {},
     "output_type": "execute_result"
    }
   ],
   "source": [
    "df1.shape, df2.shape"
   ]
  },
  {
   "cell_type": "code",
   "execution_count": 353,
   "metadata": {},
   "outputs": [
    {
     "name": "stderr",
     "output_type": "stream",
     "text": [
      "C:\\Users\\DELL\\AppData\\Local\\Temp\\ipykernel_14932\\1645469366.py:3: FutureWarning: Passing a negative integer is deprecated in version 1.0 and will not be supported in future version. Instead, use None to not limit the column width.\n",
      "  pd.set_option('display.max_colwidth', -1)\n"
     ]
    }
   ],
   "source": [
    "pd.set_option('display.max_columns', None)\n",
    "pd.set_option('display.max_rows', None)\n",
    "pd.set_option('display.max_colwidth', -1)"
   ]
  },
  {
   "cell_type": "code",
   "execution_count": 354,
   "metadata": {},
   "outputs": [
    {
     "data": {
      "text/plain": [
       "0    {\"product_specification\"=>[{\"key\"=>\"Number of Contents in Sales Package\", \"value\"=>\"Pack of 3\"}, {\"key\"=>\"Fabric\", \"value\"=>\"Cotton Lycra\"}, {\"key\"=>\"Type\", \"value\"=>\"Cycling Shorts\"}, {\"key\"=>\"Pattern\", \"value\"=>\"Solid\"}, {\"key\"=>\"Ideal For\", \"value\"=>\"Women's\"}, {\"value\"=>\"Gentle Machine Wash in Lukewarm Water, Do Not Bleach\"}, {\"key\"=>\"Style Code\", \"value\"=>\"ALTHT_3P_21\"}, {\"value\"=>\"3 shorts\"}]}\n",
       "Name: product_specifications, dtype: object"
      ]
     },
     "execution_count": 354,
     "metadata": {},
     "output_type": "execute_result"
    }
   ],
   "source": [
    "df1['product_specifications'][:1]"
   ]
  },
  {
   "cell_type": "code",
   "execution_count": 355,
   "metadata": {},
   "outputs": [
    {
     "data": {
      "text/html": [
       "<div>\n",
       "<style scoped>\n",
       "    .dataframe tbody tr th:only-of-type {\n",
       "        vertical-align: middle;\n",
       "    }\n",
       "\n",
       "    .dataframe tbody tr th {\n",
       "        vertical-align: top;\n",
       "    }\n",
       "\n",
       "    .dataframe thead th {\n",
       "        text-align: right;\n",
       "    }\n",
       "</style>\n",
       "<table border=\"1\" class=\"dataframe\">\n",
       "  <thead>\n",
       "    <tr style=\"text-align: right;\">\n",
       "      <th></th>\n",
       "      <th>uniq_id</th>\n",
       "      <th>crawl_timestamp</th>\n",
       "      <th>product_url</th>\n",
       "      <th>product_name</th>\n",
       "      <th>product_category_tree</th>\n",
       "      <th>pid</th>\n",
       "      <th>retail_price</th>\n",
       "      <th>discounted_price</th>\n",
       "      <th>image</th>\n",
       "      <th>is_FK_Advantage_product</th>\n",
       "      <th>description</th>\n",
       "      <th>product_rating</th>\n",
       "      <th>overall_rating</th>\n",
       "      <th>brand</th>\n",
       "      <th>product_specifications</th>\n",
       "    </tr>\n",
       "  </thead>\n",
       "  <tbody>\n",
       "    <tr>\n",
       "      <th>0</th>\n",
       "      <td>c2d766ca982eca8304150849735ffef9</td>\n",
       "      <td>2016-03-25 22:59:23 +0000</td>\n",
       "      <td>http://www.flipkart.com/alisha-solid-women-s-cycling-shorts/p/itmeh2ffvzetthbb?pid=SRTEH2FF9KEDEFGF</td>\n",
       "      <td>Alisha Solid Women's Cycling Shorts</td>\n",
       "      <td>[\"Clothing &gt;&gt; Women's Clothing &gt;&gt; Lingerie, Sleep &amp; Swimwear &gt;&gt; Shorts &gt;&gt; Alisha Shorts &gt;&gt; Alisha Solid Women's Cycling Shorts\"]</td>\n",
       "      <td>SRTEH2FF9KEDEFGF</td>\n",
       "      <td>999.0</td>\n",
       "      <td>379.0</td>\n",
       "      <td>[\"http://img5a.flixcart.com/image/short/u/4/a/altht-3p-21-alisha-38-original-imaeh2d5vm5zbtgg.jpeg\", \"http://img5a.flixcart.com/image/short/p/j/z/altght4p-26-alisha-38-original-imaeh2d5kbufss6n.jpeg\", \"http://img5a.flixcart.com/image/short/p/j/z/altght4p-26-alisha-38-original-imaeh2d5npdybzyt.jpeg\", \"http://img5a.flixcart.com/image/short/z/j/7/altght-7-alisha-38-original-imaeh2d5jsz2ghd6.jpeg\"]</td>\n",
       "      <td>False</td>\n",
       "      <td>Key Features of Alisha Solid Women's Cycling Shorts Cotton Lycra Navy, Red, Navy,Specifications of Alisha Solid Women's Cycling Shorts Shorts Details Number of Contents in Sales Package Pack of 3 Fabric Cotton Lycra Type Cycling Shorts General Details Pattern Solid Ideal For Women's Fabric Care Gentle Machine Wash in Lukewarm Water, Do Not Bleach Additional Details Style Code ALTHT_3P_21 In the Box 3 shorts</td>\n",
       "      <td>No rating available</td>\n",
       "      <td>No rating available</td>\n",
       "      <td>Alisha</td>\n",
       "      <td>{\"product_specification\"=&gt;[{\"key\"=&gt;\"Number of Contents in Sales Package\", \"value\"=&gt;\"Pack of 3\"}, {\"key\"=&gt;\"Fabric\", \"value\"=&gt;\"Cotton Lycra\"}, {\"key\"=&gt;\"Type\", \"value\"=&gt;\"Cycling Shorts\"}, {\"key\"=&gt;\"Pattern\", \"value\"=&gt;\"Solid\"}, {\"key\"=&gt;\"Ideal For\", \"value\"=&gt;\"Women's\"}, {\"value\"=&gt;\"Gentle Machine Wash in Lukewarm Water, Do Not Bleach\"}, {\"key\"=&gt;\"Style Code\", \"value\"=&gt;\"ALTHT_3P_21\"}, {\"value\"=&gt;\"3 shorts\"}]}</td>\n",
       "    </tr>\n",
       "  </tbody>\n",
       "</table>\n",
       "</div>"
      ],
      "text/plain": [
       "                            uniq_id            crawl_timestamp  \\\n",
       "0  c2d766ca982eca8304150849735ffef9  2016-03-25 22:59:23 +0000   \n",
       "\n",
       "                                                                                           product_url  \\\n",
       "0  http://www.flipkart.com/alisha-solid-women-s-cycling-shorts/p/itmeh2ffvzetthbb?pid=SRTEH2FF9KEDEFGF   \n",
       "\n",
       "                          product_name  \\\n",
       "0  Alisha Solid Women's Cycling Shorts   \n",
       "\n",
       "                                                                                                              product_category_tree  \\\n",
       "0  [\"Clothing >> Women's Clothing >> Lingerie, Sleep & Swimwear >> Shorts >> Alisha Shorts >> Alisha Solid Women's Cycling Shorts\"]   \n",
       "\n",
       "                pid  retail_price  discounted_price  \\\n",
       "0  SRTEH2FF9KEDEFGF  999.0         379.0              \n",
       "\n",
       "                                                                                                                                                                                                                                                                                                                                                                                                           image  \\\n",
       "0  [\"http://img5a.flixcart.com/image/short/u/4/a/altht-3p-21-alisha-38-original-imaeh2d5vm5zbtgg.jpeg\", \"http://img5a.flixcart.com/image/short/p/j/z/altght4p-26-alisha-38-original-imaeh2d5kbufss6n.jpeg\", \"http://img5a.flixcart.com/image/short/p/j/z/altght4p-26-alisha-38-original-imaeh2d5npdybzyt.jpeg\", \"http://img5a.flixcart.com/image/short/z/j/7/altght-7-alisha-38-original-imaeh2d5jsz2ghd6.jpeg\"]   \n",
       "\n",
       "   is_FK_Advantage_product  \\\n",
       "0  False                     \n",
       "\n",
       "                                                                                                                                                                                                                                                                                                                                                                                                                  description  \\\n",
       "0  Key Features of Alisha Solid Women's Cycling Shorts Cotton Lycra Navy, Red, Navy,Specifications of Alisha Solid Women's Cycling Shorts Shorts Details Number of Contents in Sales Package Pack of 3 Fabric Cotton Lycra Type Cycling Shorts General Details Pattern Solid Ideal For Women's Fabric Care Gentle Machine Wash in Lukewarm Water, Do Not Bleach Additional Details Style Code ALTHT_3P_21 In the Box 3 shorts   \n",
       "\n",
       "        product_rating       overall_rating   brand  \\\n",
       "0  No rating available  No rating available  Alisha   \n",
       "\n",
       "                                                                                                                                                                                                                                                                                                                                                                                               product_specifications  \n",
       "0  {\"product_specification\"=>[{\"key\"=>\"Number of Contents in Sales Package\", \"value\"=>\"Pack of 3\"}, {\"key\"=>\"Fabric\", \"value\"=>\"Cotton Lycra\"}, {\"key\"=>\"Type\", \"value\"=>\"Cycling Shorts\"}, {\"key\"=>\"Pattern\", \"value\"=>\"Solid\"}, {\"key\"=>\"Ideal For\", \"value\"=>\"Women's\"}, {\"value\"=>\"Gentle Machine Wash in Lukewarm Water, Do Not Bleach\"}, {\"key\"=>\"Style Code\", \"value\"=>\"ALTHT_3P_21\"}, {\"value\"=>\"3 shorts\"}]}  "
      ]
     },
     "execution_count": 355,
     "metadata": {},
     "output_type": "execute_result"
    }
   ],
   "source": [
    "df2.head(1)"
   ]
  },
  {
   "cell_type": "code",
   "execution_count": 356,
   "metadata": {},
   "outputs": [
    {
     "data": {
      "text/plain": [
       "uniq_id                    0   \n",
       "crawl_timestamp            0   \n",
       "product_url                0   \n",
       "product_name               0   \n",
       "product_category_tree      0   \n",
       "pid                        0   \n",
       "retail_price               0   \n",
       "discounted_price           0   \n",
       "image                      3   \n",
       "is_FK_Advantage_product    0   \n",
       "description                2   \n",
       "product_rating             0   \n",
       "overall_rating             0   \n",
       "brand                      5864\n",
       "product_specifications     14  \n",
       "dtype: int64"
      ]
     },
     "execution_count": 356,
     "metadata": {},
     "output_type": "execute_result"
    }
   ],
   "source": [
    "'''Using ML/DL techniques, match similar products from the Flipkart dataset with the Amazon dataset. Once\n",
    "similar products are matched, display the retail price from FK and AMZ side by side. Please explore as\n",
    "many techniques as possible before choosing the final technique.'''\n",
    "# Data Preprocessing\n",
    "# check for null values\n",
    "df1.isnull().sum()"
   ]
  },
  {
   "cell_type": "code",
   "execution_count": 357,
   "metadata": {},
   "outputs": [
    {
     "name": "stdout",
     "output_type": "stream",
     "text": [
      "uniq_id                    0   \n",
      "crawl_timestamp            0   \n",
      "product_url                0   \n",
      "product_name               0   \n",
      "product_category_tree      0   \n",
      "pid                        0   \n",
      "retail_price               78  \n",
      "discounted_price           78  \n",
      "image                      3   \n",
      "is_FK_Advantage_product    0   \n",
      "description                2   \n",
      "product_rating             0   \n",
      "overall_rating             0   \n",
      "brand                      5864\n",
      "product_specifications     14  \n",
      "dtype: int64\n"
     ]
    }
   ],
   "source": [
    "print(df2.isnull().sum())"
   ]
  },
  {
   "cell_type": "code",
   "execution_count": 358,
   "metadata": {},
   "outputs": [
    {
     "data": {
      "text/plain": [
       "(17539, 15)"
      ]
     },
     "execution_count": 358,
     "metadata": {},
     "output_type": "execute_result"
    }
   ],
   "source": [
    "temp_fk = df2[df2['description'].notna()]\n",
    "temp_fk = temp_fk[temp_fk['product_category_tree'].notna()]\n",
    "temp_fk.drop_duplicates(subset=['description'], keep='first', inplace=True)\n",
    "temp_fk.reset_index(drop=True, inplace=True)\n",
    "temp_fk.shape"
   ]
  },
  {
   "cell_type": "code",
   "execution_count": 359,
   "metadata": {},
   "outputs": [],
   "source": [
    "\n",
    "#dropping the columns which do not add much meaning to our problem statement\n",
    "temp_fk = temp_fk.drop(['uniq_id',\n",
    "               'crawl_timestamp', \n",
    "               'product_url', \n",
    "               'pid', \n",
    "               'image',\n",
    "               'product_rating',\n",
    "               'overall_rating',\n",
    "               'is_FK_Advantage_product',\n",
    "               'product_specifications'], axis = 1)\n",
    "     "
   ]
  },
  {
   "cell_type": "code",
   "execution_count": 360,
   "metadata": {},
   "outputs": [
    {
     "data": {
      "text/plain": [
       "(12273, 6)"
      ]
     },
     "execution_count": 360,
     "metadata": {},
     "output_type": "execute_result"
    }
   ],
   "source": [
    "temp_fk = temp_fk[temp_fk['brand'].notna()]\n",
    "temp_fk.shape"
   ]
  },
  {
   "cell_type": "code",
   "execution_count": 361,
   "metadata": {},
   "outputs": [
    {
     "data": {
      "text/plain": [
       "uniq_id                    0   \n",
       "crawl_timestamp            0   \n",
       "product_url                0   \n",
       "product_name               0   \n",
       "product_category_tree      0   \n",
       "pid                        0   \n",
       "retail_price               0   \n",
       "discounted_price           0   \n",
       "image                      3   \n",
       "is_FK_Advantage_product    0   \n",
       "description                2   \n",
       "product_rating             0   \n",
       "overall_rating             0   \n",
       "brand                      5864\n",
       "product_specifications     14  \n",
       "dtype: int64"
      ]
     },
     "execution_count": 361,
     "metadata": {},
     "output_type": "execute_result"
    }
   ],
   "source": [
    "df1.isna().sum()"
   ]
  },
  {
   "cell_type": "code",
   "execution_count": 362,
   "metadata": {},
   "outputs": [],
   "source": [
    "# clean df1\n",
    "temp_amz = df1[df1['description'].notna()]\n",
    "temp_amz = temp_amz[temp_amz['product_category_tree'].notna()]\n",
    "temp_amz.drop_duplicates(subset=['description'], keep='first', inplace=True)\n",
    "temp_amz.reset_index(drop=True, inplace=True)"
   ]
  },
  {
   "cell_type": "code",
   "execution_count": 363,
   "metadata": {},
   "outputs": [
    {
     "data": {
      "text/plain": [
       "(12273, 6)"
      ]
     },
     "execution_count": 363,
     "metadata": {},
     "output_type": "execute_result"
    }
   ],
   "source": [
    "temp_amz = temp_amz.drop(['uniq_id',\n",
    "                'crawl_timestamp',\n",
    "                'product_url',\n",
    "                'pid',\n",
    "                'image',\n",
    "                'product_rating',\n",
    "                'overall_rating',\n",
    "                'is_FK_Advantage_product',\n",
    "                'product_specifications'], axis = 1)\n",
    "\n",
    "# rename columns\n",
    "temp_amz.rename(columns={'retail_price':'retail_price in amazon', 'product_name': 'product_name in amazon', 'discounted_price':'discounted_price in amazon'}, inplace=True)\n",
    "temp_fk.rename(columns={'retail_price':'retail_price in flipkart', 'product_name': 'product_name in flipkart', 'discounted_price':'discounted_price in flipkart'}, inplace=True)\n",
    "\n",
    "temp_amz = temp_amz[temp_amz['brand'].notna()]\n",
    "temp_amz.shape"
   ]
  },
  {
   "cell_type": "code",
   "execution_count": 364,
   "metadata": {},
   "outputs": [],
   "source": [
    "# group similar products\n",
    "temp_amz['product_category_tree'] = temp_amz['product_category_tree'].str.split('>>').str[0]\n",
    "temp_fk['product_category_tree'] = temp_fk['product_category_tree'].str.split('>>').str[0]"
   ]
  },
  {
   "cell_type": "code",
   "execution_count": 365,
   "metadata": {},
   "outputs": [
    {
     "data": {
      "text/plain": [
       "[\"Jewellery                                                2946\n",
       "[\"Clothing                                                 2858\n",
       "[\"Automotive                                               1009\n",
       "[\"Home Decor & Festive Needs                               794 \n",
       "[\"Mobiles & Accessories                                    591 \n",
       "[\"Computers                                                575 \n",
       "[\"Home Furnishing                                          545 \n",
       "[\"Footwear                                                 365 \n",
       "[\"Kitchen & Dining                                         361 \n",
       "[\"Tools & Hardware                                         333 \n",
       "[\"Baby Care                                                298 \n",
       "[\"Furniture                                                176 \n",
       "[\"Pens & Stationery                                        170 \n",
       "[\"Beauty and Personal Care                                 154 \n",
       "[\"Bags, Wallets & Belts                                    150 \n",
       "[\"Sports & Fitness                                         108 \n",
       "[\"Toys & School Supplies                                   103 \n",
       "[\"Cameras & Accessories                                    82  \n",
       "[\"Home Improvement                                         81  \n",
       "[\"Watches                                                  48  \n",
       "[\"Health & Personal Care Appliances                        43  \n",
       "[\"Gaming                                                   35  \n",
       "[\"Sunglasses                                               35  \n",
       "[\"Pet Supplies                                             30  \n",
       "[\"Home & Kitchen                                           24  \n",
       "[\"Home Entertainment                                       19  \n",
       "[\"Eyewear                                                  10  \n",
       "[\"Clovia Women's Full Coverage Bra\"]                       9   \n",
       "[\"Lilliput Top Baby Girl's  Combo\"]                        8   \n",
       "[\"Vishudh Printed Women's Straight Kurta\"]                 8   \n",
       "[\"Olvin Aviator Sunglasses\"]                               7   \n",
       "[\"Clovia Women's T-Shirt Bra\"]                             6   \n",
       "[\"MASARA Solid Women's Straight Kurta\"]                    5   \n",
       "[\"Household Supplies                                       4   \n",
       "[\"FEET FLOW Women Flats\"]                                  4   \n",
       "[\"Olvin Wayfarer Sunglasses\"]                              4   \n",
       "[\"Firangi Cotton, Polyester Free Floor Mat Firangi...\"]    4   \n",
       "[\"Pu-Good Women Flats\"]                                    4   \n",
       "[\"Dressberry Gold Synthetic  Clutch\"]                      4   \n",
       "[\"Dassler Slim Fit Women's Multicolor Jeans\"]              3   \n",
       "[\"Indistar Self Design Viscose Women's Stole\"]             3   \n",
       "[\"Treppe Bellies\"]                                         3   \n",
       "[\"Dilan Jewels Alloy Zircon 18K Yellow Gold Bangle...\"]    3   \n",
       "[\"Pout Brass Bangle\"]                                      3   \n",
       "[\"Ruhi's Creations Polyester Silk Blend Cartoon Ki...\"]    3   \n",
       "[\"Frabjous German silver Rings For Women Alloy Zir...\"]    3   \n",
       "[\"Olvin Oval Sunglasses\"]                                  3   \n",
       "[\"TSG Breeze Printed Women's Round Neck Multicolor...\"]    2   \n",
       "[\"Corcepts Universal Tablet HD Ultra Clear Transpa...\"]    2   \n",
       "[\"Wearable Smart Devices                                   2   \n",
       "[\"HANS Men's Crew Length Socks\"]                           2   \n",
       "[\"The Cotton Company Solid Women's Polo Neck Pink ...\"]    2   \n",
       "[\"TIMBERLAKE Slim Fit Fit Women's Brown Jeans\"]            2   \n",
       "[\"EASIES Solid Single Breasted Casual Men's Blazer\"]       2   \n",
       "[\"Camey Men's Quarter Length Socks\"]                       2   \n",
       "[\"COIRFIT Single Coir Mattress\"]                           2   \n",
       "[\"Crafty Hands Kutchchi Mirrorwork Tapestry (Maroon)\"]     2   \n",
       "[\"killys Men's Solid No Show Socks\"]                       2   \n",
       "[\"INDILEGO Women Flats\"]                                   2   \n",
       "[\"TIMBERLAKE Slim Fit Fit Women's Red Jeans\"]              2   \n",
       "[\"Olvin Rectangular Sunglasses\"]                           2   \n",
       "[\"D&D Women Flats\"]                                        2   \n",
       "[\"fourgee Slim Fit Women's Blue Jeans\"]                    2   \n",
       "[\"Ajaero Slim Fit Women's Dark Blue Jeans\"]                2   \n",
       "[\"GALLOWAY skinny Fit Women's Jeans\"]                      2   \n",
       "[\"Siyas Collection Lac Cubic Zirconia Bangle Set (...\"]    2   \n",
       "[\"Mast & Harbour Black Synthetic  Clutch\"]                 2   \n",
       "[\"Dressberry Black Synthetic  Clutch\"]                     2   \n",
       "[\"Food & Nutrition                                         2   \n",
       "[\"clickforsign Avoid Contanimation Wash your Hands...\"]    1   \n",
       "[\"Anuradha Art Stylish Hair Clip (Blue)\"]                  1   \n",
       "[\"SHOPOJ Purple Paper Sky Lantern (80 cm X 34 cm, ...\"]    1   \n",
       "[\"Car vastra 1pcs Car Vastra Honda Beige Backrest ...\"]    1   \n",
       "[\"SHOPOJ Yellow Paper Sky Lantern (80 cm X 34 cm, ...\"]    1   \n",
       "[\"SHOPOJ Multicolor Paper Sky Lantern (80 cm X 34 ...\"]    1   \n",
       "[\"Sj Bushnell 119M / 1000 Binoculars (36 mm, Black)\"]      1   \n",
       "[\"FIFO Bottom Women's  Combo\"]                             1   \n",
       "[\"Himmlisch 20503 Car Bottle Holder (Plastic)\"]            1   \n",
       "[\"V&G Professional HD-37 Hair Dryer (Red)\"]                1   \n",
       "[\"Shonaya Printed Bhagalpuri Art Silk Sari\"]               1   \n",
       "[\"SJ Comet Zoom DPSI Binoculars (30 mm, Black)\"]           1   \n",
       "[\"Anuradha Art Stylish Hair Clip (Black)\"]                 1   \n",
       "[\"JUSF2 Black Color Hair Band (Multicolor)\"]               1   \n",
       "[\"Sonaxo Men Running Shoes\"]                               1   \n",
       "[\"Koie  Battery - For Samsung 7562 Premium Quality...\"]    1   \n",
       "[\"OEM 170774 Bike Side Stand\"]                             1   \n",
       "[\"Kittens Boys Flats\"]                                     1   \n",
       "[\"AutoKraftZ Optimum Locking Device For Bajaj Puls...\"]    1   \n",
       "[\"Skayvon SUMMERSIBLE SINGLE PHASE PUMP CONTROLLER...\"]    1   \n",
       "[\"Dremel 2615.023.132 Plastic Friction Work Bench ...\"]    1   \n",
       "[\"BuildTrack PIR Wireless Motion Sensor - One Swit...\"]    1   \n",
       "[\"Pia International 10X70X70 WITH ZOOM SAKURA Bino...\"]    1   \n",
       "[\"SJ Barstel 56m / 1000m Binoculars (30 mm, Black)\"]       1   \n",
       "[\"Amita Home Furnishing Cotton Printed Single Beds...\"]    1   \n",
       "[\"Legmark Slim Fit Women's Blue Jeans\"]                    1   \n",
       "[\"Behringer Xenyx 502 Analog Sound Mixer\"]                 1   \n",
       "[\"Naaz 2 in 1 Paper Quilling Board Game\"]                  1   \n",
       "[\"Starsy Printed Women's Round Neck Black T-Shirt\"]        1   \n",
       "[\"Fly U Slim Fit Fit Women's Brown Jeans\"]                 1   \n",
       "[\"Skayvon SUBMERSIBBLE THREE PHASE PUMP CONTROLLER...\"]    1   \n",
       "[\"tadd Men's, Women's Ankle Length Socks\"]                 1   \n",
       "[\"Dolz Slim Fit Fit Women's Brown Jeans\"]                  1   \n",
       "[\"Shrih Toe & Foot Protector Pain Relief Pad (Pack...\"]    1   \n",
       "[\"LondonHouze Printed Women's Round Neck Grey T-Shirt\"]    1   \n",
       "[\"Linzina Fashions LIN-HOSS-1.5 Faucet Set\"]               1   \n",
       "[\"SJ Bushnell 122/1000M Binoculars (36 mm, Black)\"]        1   \n",
       "[\"soie Fashion Women's Full Coverage Bra\"]                 1   \n",
       "[\"Clovia Women's Plunge Bra\"]                              1   \n",
       "[\"Foot Candy Women Flats\"]                                 1   \n",
       "[\"Amita Home Furnishing Cotton Floral Single Bedsh...\"]    1   \n",
       "[\"883 Police Full Sleeve Solid Men's Jacket\"]              1   \n",
       "[\"Style World Women Flats\"]                                1   \n",
       "[\"Just Wow Women Flats\"]                                   1   \n",
       "[\"SMART TRADERS Women Flats\"]                              1   \n",
       "[\"Ruhi's Creations Cotton Cartoon King sized Doubl...\"]    1   \n",
       "[\"ABEEZ Boys, Men, Girls (Black, Pack of 1)\"]              1   \n",
       "[\"Joyra Heart Sterling Silver Swarovski Crystal, S...\"]    1   \n",
       "[\"BLM Casual Printed Women's Kurti\"]                       1   \n",
       "[\"Autoplus M AP15 Arm Sleeve (Black)\"]                     1   \n",
       "[\"Kraft Seeds Thyme Herbs Seed (200 per packet)\"]          1   \n",
       "[\"Kraft Seeds Dill Herb Seed (50 per packet)\"]             1   \n",
       "[\"Leading lady Women's Camisole\"]                          1   \n",
       "[\"Yo Baby Girl's Trousers\"]                                1   \n",
       "[\"THERISE MD0005 Wired Headset (Pink)\"]                    1   \n",
       "[\"Nut Khut Embroidered Kurta & Churidar\"]                  1   \n",
       "[\"Vinenzia Printed Winter Men's Gloves\"]                   1   \n",
       "[\"Planet Waves Woodstock Strap (Multicolor)\"]              1   \n",
       "[\"Speedwav 216456 Manual Rear View Mirror (Right, ...\"]    1   \n",
       "[\"Speedwav 216510 Manual Rear View Mirror (Right, ...\"]    1   \n",
       "[\"Speedwav 216552 Manual Rear View Mirror (Right, ...\"]    1   \n",
       "[\"Speedwav 186136 Manual Rear View Mirror (Right, ...\"]    1   \n",
       "[\"Small Toes Bellies\"]                                     1   \n",
       "[\"Vishudh Printed Women's Anarkali Kurta\"]                 1   \n",
       "[\"Clovia Lingerie Set\"]                                    1   \n",
       "[\"Speedwav 186926 Royal Enfield 350 Twin Spark LED...\"]    1   \n",
       "[\"Speedwav 186879 Bajaj Pulsar 200 NS DTS-i LED In...\"]    1   \n",
       "[\"Bengal Blooms Rose Artificial Plant  with Pot (3...\"]    1   \n",
       "[\"Pazel Slim Fit Men's Jeans\"]                             1   \n",
       "[\"SMART TRADERS Girls Bellies\"]                            1   \n",
       "[\"Eternal Gandhi Super Series Crystal Paper Weight...\"]    1   \n",
       "[\"Autoplus M AP18 Arm Sleeve (Black)\"]                     1   \n",
       "[\"Kraft Seeds Rosemary Herb (Pack Of 5) Seed (75 p...\"]    1   \n",
       "[\"SMART DENIM Solid Women's White Denim Shorts\"]           1   \n",
       "[\"SRPC BAOER STARWALKER EXECUTIVE ROLLERBALL Pen G...\"]    1   \n",
       "[\"ATV Pouch for Acer Liquid Z330 (STEEL BLUE)\"]            1   \n",
       "[\"Be 13 Printed Boy's Round Neck T-Shirt (Pack of 2)\"]     1   \n",
       "[\"Taurus Black & white Lace Up\"]                           1   \n",
       "[\"Abhinl Fashion Cotton Printed Semi-stitched Salw...\"]    1   \n",
       "[\"UFO Self Design Round Neck Casual Girl's Sweater\"]       1   \n",
       "[\"LGRL Women's Leggings\"]                                  1   \n",
       "[\"Breakbounce Men's Vest\"]                                 1   \n",
       "[\"UFO Full Sleeve Solid Girl's Jacket\"]                    1   \n",
       "[\"BALAJI EXPORTS Bottled Wine Cooler (9 Bottles)\"]         1   \n",
       "[\"Siemens 5SL Betagard 5SL MCB (1)\"]                       1   \n",
       "[\"Remax Rm-10000 Remax Vanguard 10000mah 10000 mAh...\"]    1   \n",
       "[\"Boreal Roller Brush\"]                                    1   \n",
       "[\"Srajanaa sr114 Travel Shaving Kit (Black)\"]              1   \n",
       "[\"Selfcare Women's Thong Panty (Pack of 3)\"]               1   \n",
       "[\"Sugandh Vatika 24 Natural Masala, Sandal Incense...\"]    1   \n",
       "[\"Arial Morris Women Flats\"]                               1   \n",
       "[\"Zikrak Exim Women Wedges\"]                               1   \n",
       "[\"Zixtro Bug (Black, Backpack)\"]                           1   \n",
       "[\"New Darling Women's Printed Top & Pyjama Set\"]           1   \n",
       "[\"RajeshFashion Women's Leggings\"]                         1   \n",
       "[\"United Colors of Benetton Girl's Trousers\"]              1   \n",
       "[\"Impala Alloy Cufflink (White)\"]                          1   \n",
       "[\"Wellon Fittings set (16 pieces) for RO Water Pur...\"]    1   \n",
       "[\"Urban Girl Foundation Brush (Pack of 10)\"]               1   \n",
       "[\"Prime Printed 8 Seater Table Cover (Multicolor, ...\"]    1   \n",
       "[\"Threads & Pals Full Sleeve Self Design Men's Swe...\"]    1   \n",
       "[\"Gking Hand Stiched Steering Cover For Renault Sc...\"]    1   \n",
       "[\"Power Smart Quick Charging Pack For PAN CGR-D28 ...\"]    1   \n",
       "[\"xy decor Cotton Sofa Cover (white Pack of 6)\"]           1   \n",
       "[\"Favourite BikerZ 3514 RAD air filter Ionic Air F...\"]    1   \n",
       "[\"Disney Printed Baby Boy's Hooded Grey T-Shirt\"]          1   \n",
       "[\"Little Stars Girl's A-line Multicolor Dress\"]            1   \n",
       "[\"Automation & Robotics                                    1   \n",
       "[\"The Crazy Me 1 Compartments Eco-Friendly leather...\"]    1   \n",
       "[\"fourgee Slim Fit Boy's Black Jeans\"]                     1   \n",
       "[\"Laser X Checkered Men's Boxer (Pack of 4)\"]              1   \n",
       "[\"INKT INKT A5 Wiro Notebook A5 Notebook Ring Boun...\"]    1   \n",
       "[\"E'Hiose Girl's Leggings (Pack of 6)\"]                    1   \n",
       "[\"Lucky Thailand GL/ LG30 Glass (300 ml, Clear, Pa...\"]    1   \n",
       "[\"Ocean GP/Pyramid Glass (300 ml, Clear, Pack of 12)\"]     1   \n",
       "[\"Wella Elements Leight Weight Renewing Conditione...\"]    1   \n",
       "[\"NEWGEN TECH EO-HS3303 218 Wired Headset (White)\"]        1   \n",
       "[\"Kombee Girl's Printed Red, Pink Top & Capri Set\"]        1   \n",
       "[\"Sumo Baby Walker (Red)\"]                                 1   \n",
       "[\"Vitamins Solid Baby Girl's Basic Shorts\"]                1   \n",
       "[\"classyworld Brass Cufflink (Silver-01)\"]                 1   \n",
       "[\"Threads & Pals Full Sleeve Printed, Solid Men's ...\"]    1   \n",
       "[\"Shrih SH-0192 Wired USB Flexible Keyboard (Red)\"]        1   \n",
       "[\"GM Power mate 4 Strip Surge Protector (White)\"]          1   \n",
       "[\"Bootwale Bellies\"]                                       1   \n",
       "[\"Klaur Melbourne Bellies\"]                                1   \n",
       "[\"Clickforsign Vehicles parked Illegally will be t...\"]    1   \n",
       "[\"clickforsign Sound horn Before entering Emergenc...\"]    1   \n",
       "[\"kem Flow Gold skinny Fit Baby Girl's Blue Jeans\"]        1   \n",
       "[\"Carbanao Chrome Grill Chevrolet Cruze Car Grill ...\"]    1   \n",
       "[\"Oddy RS 1.5 X 2 100 Sheets Self Stick Reposition...\"]    1   \n",
       "[\"Synergy SFJB0105 Grocery Bag (Blue)\"]                    1   \n",
       "[\"SHOPOJ White Paper Sky Lantern (80 cm X 34 cm, P...\"]    1   \n",
       "[\"SUPERMOD Men's Brief\"]                                   1   \n",
       "[\"Adidas IND PRO THI GUA Thigh Guard (White, Blue,...\"]    1   \n",
       "[\"Gking Hand Stiched Steering Cover For Maruti Ert...\"]    1   \n",
       "[\"K&P Lord Ganesha Large 03 Showpiece  -  19 cm (P...\"]    1   \n",
       "[\"Zevrr Sterling Silver Swarovski Zirconia Platinu...\"]    1   \n",
       "[\"Rasav Jewels Yellow Gold Diamond 18 K Ring\"]             1   \n",
       "[\"Royal Seal Creations 40 ST COLOR Silver Zircon N...\"]    1   \n",
       "[\"K&P Dr.Ambedkar Large 04 Showpiece  -  19 cm (Po...\"]    1   \n",
       "[\"ANASAZI Casual 3/4 Sleeve Solid Women's Top\"]            1   \n",
       "[\"INVENTURE RETAIL Nail Cutter\"]                           1   \n",
       "[\"Fabpoppy Printed Women's Jumpsuit\"]                      1   \n",
       "[\"Power Smart Quick Charging Pack For PAN CGR-DU-2...\"]    1   \n",
       "[\"Speedwav 240437 Sun Shade For Hyundai i10 (Dashb...\"]    1   \n",
       "[\"ANAND ARCHIES Girls Wedges\"]                             1   \n",
       "[\"Kanvas Bellies\"]                                         1   \n",
       "[\"Urban Girl Foundation Brush (Pack of 12)\"]               1   \n",
       "[\"soie Fashion Women's Sports Bra\"]                        1   \n",
       "[\"Auraa Men's, Women's Solid No Show Socks\"]               1   \n",
       "[\"e-Fresh Boy's Brief (Pack of 5)\"]                        1   \n",
       "[\"TIMBERLAKE Slim Fit Fit Women's Blue Jeans\"]             1   \n",
       "[\"NEWGEN TECH EO-HS3303 179 Wired Headset (White)\"]        1   \n",
       "[\"Attitude Printed Women's Round Neck Black T-Shirt\"]      1   \n",
       "[\"Kalpaveda Copper Bowl (Gold, Pack of 1)\"]                1   \n",
       "[\"Walkline Slippers\"]                                      1   \n",
       "[\"Cellbazaar Blackberry 8520 WHITE LCD LCD (YIT-562)\"]     1   \n",
       "[\"e-Fresh Baby Boy's Brief (Pack of 10)\"]                  1   \n",
       "[\"NEWGEN TECH EO-HS3303 58 Wired Headset (White)\"]         1   \n",
       "[\"Ruhi's Creations Cotton Floral King sized Double...\"]    1   \n",
       "[\"SAY Thread Wounded Candle 10\" Set of 4 pcs Solid...\"]    1   \n",
       "[\"Libas Printed Women's Anarkali Kurta\"]                   1   \n",
       "[\"Samprada Modern art Tapestry (Black, Pink)\"]             1   \n",
       "[\"Naaz Dart game Board Game\"]                              1   \n",
       "[\"Oly Two Fit Fit Women's Dark Blue Jeans\"]                1   \n",
       "[\"Libas Printed Women's A-line Kurta\"]                     1   \n",
       "[\"Noor Embroidered Women's Straight Kurta\"]                1   \n",
       "[\"classyworld Brass Cufflink (Grey-02)\"]                   1   \n",
       "[\"Viral Girl Women's Full Coverage Bra\"]                   1   \n",
       "[\"Oly Two Fit Fit Women's Black Jeans\"]                    1   \n",
       "[\"Starsy Solid Women's Round Neck Green T-Shirt\"]          1   \n",
       "[\"Sisel Printed Poly Cotton Women's Stole\"]                1   \n",
       "[\"Asics Gel-Kayano 22 Running Shoes\"]                      1   \n",
       "[\"ANAND ARCHIES Girls Flats\"]                              1   \n",
       "[\"Jazz Eyewears Over-sized Sunglasses\"]                    1   \n",
       "[\"Miss Wow Slim Fit Women's Blue Jeans\"]                   1   \n",
       "[\"Nine Maternity Wear Women's Fit and Flare Dress\"]        1   \n",
       "[\"SMART TRADERS Women Wedges\"]                             1   \n",
       "[\"Escan Lace Up\"]                                          1   \n",
       "[\"Dressberry Green Synthetic  Clutch\"]                     1   \n",
       "[\"PrivateLifes MasterPiece Women's Push-up Bra\"]           1   \n",
       "[\"Dressberry Orange Synthetic  Clutch\"]                    1   \n",
       "[\"Spa Culture Fit Fit Women's Black Jeans\"]                1   \n",
       "[\"Knight Ace Kraasa Sports Running Shoes, Cycling ...\"]    1   \n",
       "[\"run of luck Solid Women's Round Neck Dark Blue T...\"]    1   \n",
       "[\"SAY UV Sterilizer Solid Filter Cartridge (0, Pac...\"]    1   \n",
       "[\"Urban Girl Foundation Brush (Pack of 7)\"]                1   \n",
       "[\"Legmark Slim Fit Women's Light Blue Jeans\"]              1   \n",
       "[\"Mast & Harbour Gold Synthetic  Clutch\"]                  1   \n",
       "[\"Asics Gel-Cumulus 17 Running Shoes\"]                     1   \n",
       "[\"piftif Women's Sports Bra\"]                              1   \n",
       "[\"REMSON INDIA Women Flats\"]                               1   \n",
       "[\"Glacier Running Shoes\"]                                  1   \n",
       "[\"Areon Luxurious Fragrance Long Lasting Car,Home,...\"]    1   \n",
       "Name: product_category_tree, dtype: int64"
      ]
     },
     "execution_count": 365,
     "metadata": {},
     "output_type": "execute_result"
    }
   ],
   "source": [
    "temp_amz['product_category_tree'].value_counts()"
   ]
  },
  {
   "cell_type": "code",
   "execution_count": 366,
   "metadata": {},
   "outputs": [
    {
     "name": "stdout",
     "output_type": "stream",
     "text": [
      "12273\n"
     ]
    }
   ],
   "source": [
    "#lowercasing the categories to prevent duplicate categories and removal of punctuations like \">>\", etc\n",
    "primary_category = list(temp_amz['product_category_tree'])\n",
    "for i in range(len(primary_category)):\n",
    "    primary_category[i] = primary_category[i].lower()\n",
    "    primary_category[i] = primary_category[i].replace(' ','')\n",
    "    primary_category[i] = primary_category[i].replace('[\"','')\n",
    "    primary_category[i] = primary_category[i].replace('\"]','')\n",
    "\n",
    "print(len(primary_category))"
   ]
  },
  {
   "cell_type": "code",
   "execution_count": 367,
   "metadata": {},
   "outputs": [
    {
     "name": "stdout",
     "output_type": "stream",
     "text": [
      "The length of the revised grouped categories are 249\n"
     ]
    }
   ],
   "source": [
    "#combining redundant categories\n",
    "from collections import Counter\n",
    "revised_categories = [None]*len(primary_category)\n",
    "\n",
    "for i in range(len(primary_category)):\n",
    "  if primary_category[i]==\"homeimprovement\" or primary_category[i]==\"homedecor&festiveneeds\" or primary_category[i]=='home&kitchen' or primary_category[i]==\"kitchen&dining\" or primary_category[i]==\"homefurnishing\" or primary_category[i]==\"furniture\" or primary_category[i]==\"homeentertainment\":\n",
    "    revised_categories[i] = 'homefurnishing/kitchen'\n",
    "  elif primary_category[i]=='pens&stationery':\n",
    "    revised_categories[i] = 'toys&schoolsupplies'\n",
    "  elif primary_category[i]=='gaming' or primary_category[i]=='cameras&accessories' or primary_category[i]=='computers' or primary_category[i]==\"mobiles&accessories\":\n",
    "    revised_categories[i]='electronics'\n",
    "  elif primary_category[i]=='health&personal care appliances' or primary_category[i]=='beautyandpersonalcare' or primary_category[i]=='eyewear' or primary_category[i]=='sunglasses' or primary_category[i]=='watches' or primary_category[i]=='bags,wallets&belts' or primary_category[i]=='health&personalcareappliances':\n",
    "    revised_categories[i]='personalaccessories'\n",
    "  else:\n",
    "    revised_categories[i] = primary_category[i]\n",
    "\n",
    "print(\"The length of the revised grouped categories are {}\".format(len(Counter(revised_categories))))\n"
   ]
  },
  {
   "cell_type": "code",
   "execution_count": 368,
   "metadata": {},
   "outputs": [],
   "source": [
    "#creating a new column in the dataframe which stores these revised grouped categories\n",
    "temp_amz[\"primary_categories\"] = revised_categories"
   ]
  },
  {
   "cell_type": "code",
   "execution_count": 369,
   "metadata": {},
   "outputs": [
    {
     "name": "stdout",
     "output_type": "stream",
     "text": [
      "clothing 2858\n",
      "homefurnishing/kitchen 2000\n",
      "footwear 365\n",
      "petsupplies 30\n",
      "toys&schoolsupplies 273\n",
      "personalaccessories 440\n",
      "automotive 1009\n",
      "tools&hardware 333\n",
      "sports&fitness 108\n",
      "babycare 298\n",
      "electronics 1283\n",
      "jewellery 2946\n"
     ]
    }
   ],
   "source": [
    "temp_categories = list(dict.fromkeys(list(temp_amz.loc[:,'primary_categories'].values)))\n",
    "\n",
    "considered_category = []\n",
    "revised_category_count = {}\n",
    "noise = {}\n",
    "all_categories = {}\n",
    "\n",
    "\n",
    "for category in temp_categories:\n",
    "  count = np.sum(temp_amz.loc[:, 'primary_categories'].values == category)\n",
    "  all_categories[category]=count\n",
    "    #a category is considered to be a main category only if the frequency of a product in that category is at least 10\n",
    "  if(count>=10):\n",
    "    print(category,count)\n",
    "    revised_category_count[category] = count   \n",
    "  else:\n",
    "    noise[category] = count\n",
    "\n",
    "for i in range(len(revised_categories)):\n",
    "  if revised_categories[i] in revised_category_count:\n",
    "    considered_category.append(1)\n",
    "  else:\n",
    "    considered_category.append(0)"
   ]
  },
  {
   "cell_type": "code",
   "execution_count": 370,
   "metadata": {},
   "outputs": [],
   "source": [
    "temp_amz['main_category'] = considered_category\n",
    "temp_amz= temp_amz[temp_amz['brand'].notna()]\n",
    "temp_amz = temp_amz[temp_amz['main_category']==1]"
   ]
  },
  {
   "cell_type": "code",
   "execution_count": 371,
   "metadata": {},
   "outputs": [
    {
     "data": {
      "text/plain": [
       "(11943, 8)"
      ]
     },
     "execution_count": 371,
     "metadata": {},
     "output_type": "execute_result"
    }
   ],
   "source": [
    "temp_amz.shape"
   ]
  },
  {
   "cell_type": "code",
   "execution_count": 372,
   "metadata": {},
   "outputs": [],
   "source": [
    "# data cleaning and preprocessing\n",
    "import nltk\n",
    "from nltk.corpus import stopwords\n",
    "from nltk.stem import WordNetLemmatizer\n",
    "from nltk.tokenize import word_tokenize\n",
    "import re\n",
    "import string\n",
    "def clean_text(text):\n",
    "    for i in range(len(text)):\n",
    "        text[i] = text[i].lower()\n",
    "        # remove urls\n",
    "        text[i] = re.sub(r'http\\S+', '', text[i])\n",
    "        # removing white spaces\n",
    "        text[i] = re.sub(r' +', ' ', text[i])\n",
    "        # remove punctuation\n",
    "        text[i] = re.sub(r'[^\\w\\s]', '', text[i])\n",
    "        # remove numbers\n",
    "        text[i] = re.sub(r'\\d+', '', text[i])\n",
    "        # remove non ascii characters\n",
    "        text[i] = re.sub(r'[^\\x00-\\x7F]+', '', text[i])\n",
    "        # remove stopwords\n",
    "        global stop_words\n",
    "        stop_words=list(stopwords.words('english'))\n",
    "        stop_words.append([\"replacement\",\"shipping\",\"delivery\",\"cash\", \"rs\", \"flipkart\", \"genuine\", \"details\", \"guarantee\",\"free\", \"genuine\", \"flipkart.com\"])\n",
    "        word_tokens = word_tokenize(text[i])\n",
    "        filtered_sentence = [w for w in word_tokens if not w in stop_words]\n",
    "        # word lemmatization\n",
    "        lemmatizer = WordNetLemmatizer()\n",
    "        lemmatized_output = ' '.join([lemmatizer.lemmatize(w) for w in filtered_sentence])\n",
    "        # remove words which has length less than 3\n",
    "        text[i] = ' '.join([w for w in lemmatized_output.split() if len(w)>2])\n",
    "    return text\n",
    "\n",
    "raw_description = temp_amz[\"description\"].tolist()\n",
    "cleaned_description = clean_text(raw_description)"
   ]
  },
  {
   "cell_type": "code",
   "execution_count": 373,
   "metadata": {},
   "outputs": [
    {
     "name": "stdout",
     "output_type": "stream",
     "text": [
      "['key feature alisha solid woman cycling short cotton lycra navy red navyspecifications alisha solid woman cycling short short detail number content sale package pack fabric cotton lycra type cycling short general detail pattern solid ideal woman fabric care gentle machine wash lukewarm water bleach additional detail style code altht_p_ box short', 'fabhomedecor fabric double sofa bed finish color leatherette black mechanism type pull price fine deep seating experience save space new click clack sofa bed easy fold vice versa simple click clack mechanism chrome leg mango wood frame long term durability double cushioned sofa bed provide extra softness make fine seating experience double bed easily sleep twospecifications fabhomedecor fabric double sofa bed finish color leatherette black mechanism type pull installation demo installation demo detail installation demo product done free cost part purchase service partner visit location within business hour delivery product box sofa bed general brand fabhomedecor mattress included delivery condition knock storage included mechanism type pull type sofa bed style contemporary modern filling material microfiber seating capacity seater upholstery type upholstery included bed size double shape square suitable living room model number fhd care instruction avoid outdoor use exposure water prolonged moisture avoid exposure direct heat sunlight cause sofa colour fade keep sharp object away sofa little tear fabric cover may hard repair vacuum sofa periodically soft bristled bruview avoid outdoor use exposure water prolonged moisture avoid exposure direct heat sunlight cause sofa colour fade keep sharp object away sofa little tear fabric cover may hard repair vacuum sofa periodically soft bristled brush attachment lightly brush keep general dirt dust sofa prevent embedding fibre try avoid food drink spillage kind spill occur leave unattended case stain waterfree fabric cleaner used however avoid applying cleaner directly stain cause damage fabric fade colour pour cleaner onto clean cloth test effect hidden area sofa cleaning stain cloth professional scotchguard treatment one easiest effective option protect spill stain keep pet hair bay getting sofa professionally cleaned every month take care nook corner cant reach also make durable finish type matte important note cancellation allowed product order booking warranty covered warranty warranty cover kind manufacturing defect concerned product either repaired replaced based discretion service type manufacturer warranty warranty summary month domestic warranty covered warranty warranty cover improper handling dimension weight height width depth disclaimer color product may vary slightly compared picture displayed screen due lighting pixel quality color setting please check product dimension ensure product fit desired location also check product fit throughview color product may vary slightly compared picture displayed screen due lighting pixel quality color setting please check product dimension ensure product fit desired location also check product fit entrance door premise please expect unevenness product due difference surface floor level flipkart seller delivering product take type civil work drilling hole wall mount product product assembled case carpentry assembly required case product appears lack shine wiping surface cloth help clear surface dust particle material color upholstery color leatherette black primary color black primary material fabric secondary material subtype mango wood secondary material foam finish color leatherette black primary material subtype foam', 'key feature belly sandal wedge heel casualsaw belly price material synthetic lifestyle casual heel type wedge warranty type manufacturer product warranty manufacturing defect day care instruction allow pair shoe air deodorize regular basis use shoe bag prevent stain mildew dust dry dirt surface using clean cloth use polish shinerspecifications belly general ideal woman occasion casual shoe detail color red outer material patent leather heel height inch number content sale package pack box one pair shoe', 'key feature alisha solid woman cycling short cotton lycra black redspecifications alisha solid woman cycling short short detail number content sale package pack fabric cotton lycra type cycling short general detail pattern solid ideal woman fabric care gentle machine wash lukewarm water bleach additional detail style code altght_ box short', 'specification sicons purpose arnica dog shampoo general pet type dog brand sicons quantity model number shdf type purpose fragrance arnica form factor liquid box sale package shampoo sicons dog fashion arnica']\n"
     ]
    }
   ],
   "source": [
    "print(cleaned_description[:5])"
   ]
  },
  {
   "cell_type": "code",
   "execution_count": 374,
   "metadata": {},
   "outputs": [
    {
     "name": "stdout",
     "output_type": "stream",
     "text": [
      "[['key', 'feature', 'alisha', 'solid', 'woman', 'cycling', 'short', 'cotton', 'lycra', 'navy', 'red', 'navyspecifications', 'alisha', 'solid', 'woman', 'cycling', 'short', 'short', 'detail', 'number', 'content', 'sale', 'package', 'pack', 'fabric', 'cotton', 'lycra', 'type', 'cycling', 'short', 'general', 'detail', 'pattern', 'solid', 'ideal', 'woman', 'fabric', 'care', 'gentle', 'machine', 'wash', 'lukewarm', 'water', 'bleach', 'additional', 'detail', 'style', 'code', 'altht_p_', 'box', 'short'], ['fabhomedecor', 'fabric', 'double', 'sofa', 'bed', 'finish', 'color', 'leatherette', 'black', 'mechanism', 'type', 'pull', 'price', 'fine', 'deep', 'seating', 'experience', 'save', 'space', 'new', 'click', 'clack', 'sofa', 'bed', 'easy', 'fold', 'vice', 'versa', 'simple', 'click', 'clack', 'mechanism', 'chrome', 'leg', 'mango', 'wood', 'frame', 'long', 'term', 'durability', 'double', 'cushioned', 'sofa', 'bed', 'provide', 'extra', 'softness', 'make', 'fine', 'seating', 'experience', 'double', 'bed', 'easily', 'sleep', 'twospecifications', 'fabhomedecor', 'fabric', 'double', 'sofa', 'bed', 'finish', 'color', 'leatherette', 'black', 'mechanism', 'type', 'pull', 'installation', 'demo', 'installation', 'demo', 'detail', 'installation', 'demo', 'product', 'done', 'free', 'cost', 'part', 'purchase', 'service', 'partner', 'visit', 'location', 'within', 'business', 'hour', 'delivery', 'product', 'box', 'sofa', 'bed', 'general', 'brand', 'fabhomedecor', 'mattress', 'included', 'delivery', 'condition', 'knock', 'storage', 'included', 'mechanism', 'type', 'pull', 'type', 'sofa', 'bed', 'style', 'contemporary', 'modern', 'filling', 'material', 'microfiber', 'seating', 'capacity', 'seater', 'upholstery', 'type', 'upholstery', 'included', 'bed', 'size', 'double', 'shape', 'square', 'suitable', 'living', 'room', 'model', 'number', 'fhd', 'care', 'instruction', 'avoid', 'outdoor', 'use', 'exposure', 'water', 'prolonged', 'moisture', 'avoid', 'exposure', 'direct', 'heat', 'sunlight', 'cause', 'sofa', 'colour', 'fade', 'keep', 'sharp', 'object', 'away', 'sofa', 'little', 'tear', 'fabric', 'cover', 'may', 'hard', 'repair', 'vacuum', 'sofa', 'periodically', 'soft', 'bristled', 'bruview', 'avoid', 'outdoor', 'use', 'exposure', 'water', 'prolonged', 'moisture', 'avoid', 'exposure', 'direct', 'heat', 'sunlight', 'cause', 'sofa', 'colour', 'fade', 'keep', 'sharp', 'object', 'away', 'sofa', 'little', 'tear', 'fabric', 'cover', 'may', 'hard', 'repair', 'vacuum', 'sofa', 'periodically', 'soft', 'bristled', 'brush', 'attachment', 'lightly', 'brush', 'keep', 'general', 'dirt', 'dust', 'sofa', 'prevent', 'embedding', 'fibre', 'try', 'avoid', 'food', 'drink', 'spillage', 'kind', 'spill', 'occur', 'leave', 'unattended', 'case', 'stain', 'waterfree', 'fabric', 'cleaner', 'used', 'however', 'avoid', 'applying', 'cleaner', 'directly', 'stain', 'cause', 'damage', 'fabric', 'fade', 'colour', 'pour', 'cleaner', 'onto', 'clean', 'cloth', 'test', 'effect', 'hidden', 'area', 'sofa', 'cleaning', 'stain', 'cloth', 'professional', 'scotchguard', 'treatment', 'one', 'easiest', 'effective', 'option', 'protect', 'spill', 'stain', 'keep', 'pet', 'hair', 'bay', 'getting', 'sofa', 'professionally', 'cleaned', 'every', 'month', 'take', 'care', 'nook', 'corner', 'cant', 'reach', 'also', 'make', 'durable', 'finish', 'type', 'matte', 'important', 'note', 'cancellation', 'allowed', 'product', 'order', 'booking', 'warranty', 'covered', 'warranty', 'warranty', 'cover', 'kind', 'manufacturing', 'defect', 'concerned', 'product', 'either', 'repaired', 'replaced', 'based', 'discretion', 'service', 'type', 'manufacturer', 'warranty', 'warranty', 'summary', 'month', 'domestic', 'warranty', 'covered', 'warranty', 'warranty', 'cover', 'improper', 'handling', 'dimension', 'weight', 'height', 'width', 'depth', 'disclaimer', 'color', 'product', 'may', 'vary', 'slightly', 'compared', 'picture', 'displayed', 'screen', 'due', 'lighting', 'pixel', 'quality', 'color', 'setting', 'please', 'check', 'product', 'dimension', 'ensure', 'product', 'fit', 'desired', 'location', 'also', 'check', 'product', 'fit', 'throughview', 'color', 'product', 'may', 'vary', 'slightly', 'compared', 'picture', 'displayed', 'screen', 'due', 'lighting', 'pixel', 'quality', 'color', 'setting', 'please', 'check', 'product', 'dimension', 'ensure', 'product', 'fit', 'desired', 'location', 'also', 'check', 'product', 'fit', 'entrance', 'door', 'premise', 'please', 'expect', 'unevenness', 'product', 'due', 'difference', 'surface', 'floor', 'level', 'flipkart', 'seller', 'delivering', 'product', 'take', 'type', 'civil', 'work', 'drilling', 'hole', 'wall', 'mount', 'product', 'product', 'assembled', 'case', 'carpentry', 'assembly', 'required', 'case', 'product', 'appears', 'lack', 'shine', 'wiping', 'surface', 'cloth', 'help', 'clear', 'surface', 'dust', 'particle', 'material', 'color', 'upholstery', 'color', 'leatherette', 'black', 'primary', 'color', 'black', 'primary', 'material', 'fabric', 'secondary', 'material', 'subtype', 'mango', 'wood', 'secondary', 'material', 'foam', 'finish', 'color', 'leatherette', 'black', 'primary', 'material', 'subtype', 'foam'], ['key', 'feature', 'belly', 'sandal', 'wedge', 'heel', 'casualsaw', 'belly', 'price', 'material', 'synthetic', 'lifestyle', 'casual', 'heel', 'type', 'wedge', 'warranty', 'type', 'manufacturer', 'product', 'warranty', 'manufacturing', 'defect', 'day', 'care', 'instruction', 'allow', 'pair', 'shoe', 'air', 'deodorize', 'regular', 'basis', 'use', 'shoe', 'bag', 'prevent', 'stain', 'mildew', 'dust', 'dry', 'dirt', 'surface', 'using', 'clean', 'cloth', 'use', 'polish', 'shinerspecifications', 'belly', 'general', 'ideal', 'woman', 'occasion', 'casual', 'shoe', 'detail', 'color', 'red', 'outer', 'material', 'patent', 'leather', 'heel', 'height', 'inch', 'number', 'content', 'sale', 'package', 'pack', 'box', 'one', 'pair', 'shoe'], ['key', 'feature', 'alisha', 'solid', 'woman', 'cycling', 'short', 'cotton', 'lycra', 'black', 'redspecifications', 'alisha', 'solid', 'woman', 'cycling', 'short', 'short', 'detail', 'number', 'content', 'sale', 'package', 'pack', 'fabric', 'cotton', 'lycra', 'type', 'cycling', 'short', 'general', 'detail', 'pattern', 'solid', 'ideal', 'woman', 'fabric', 'care', 'gentle', 'machine', 'wash', 'lukewarm', 'water', 'bleach', 'additional', 'detail', 'style', 'code', 'altght_', 'box', 'short'], ['specification', 'sicons', 'purpose', 'arnica', 'dog', 'shampoo', 'general', 'pet', 'type', 'dog', 'brand', 'sicons', 'quantity', 'model', 'number', 'shdf', 'type', 'purpose', 'fragrance', 'arnica', 'form', 'factor', 'liquid', 'box', 'sale', 'package', 'shampoo', 'sicons', 'dog', 'fashion', 'arnica']]\n"
     ]
    }
   ],
   "source": [
    "# tokenize each cleaned description and create a list of tokens\n",
    "tokenized_description = [word_tokenize(description) for description in cleaned_description]\n",
    "print(tokenized_description[:5])"
   ]
  },
  {
   "cell_type": "code",
   "execution_count": 375,
   "metadata": {},
   "outputs": [
    {
     "data": {
      "text/plain": [
       "<AxesSubplot:title={'center':'40 Most Common Words relevant to Dataset'}, xlabel='Frequency', ylabel='Words'>"
      ]
     },
     "execution_count": 375,
     "metadata": {},
     "output_type": "execute_result"
    },
    {
     "data": {
      "image/png": "[encoded data removed]",
      "text/plain": [
       "<Figure size 2000x600 with 1 Axes>"
      ]
     },
     "metadata": {},
     "output_type": "display_data"
    }
   ],
   "source": [
    "corpus = []\n",
    "for text in tokenized_description:\n",
    "  for word in text:\n",
    "    corpus.append(word)\n",
    "\n",
    "counter = Counter(corpus)\n",
    "most=counter.most_common()\n",
    "x, y = [], []\n",
    "for word,count in most[:40]:\n",
    "  if (word not in stop_words):\n",
    "    x.append(word)\n",
    "    y.append(count)\n",
    "\n",
    "plt.figure(figsize=(20,6))\n",
    "plt.title(\"40 Most Common Words relevant to Dataset\", fontsize=20)\n",
    "plt.ylabel(\"Words\", fontsize=20)\n",
    "plt.xlabel(\"Frequency\", fontsize=20)\n",
    "plt.xticks(rotation=90)            \n",
    "sns.barplot(x=x,y=y)\n",
    "     "
   ]
  },
  {
   "cell_type": "code",
   "execution_count": 376,
   "metadata": {},
   "outputs": [],
   "source": [
    "temp_amz['cleaned_description'] = cleaned_description"
   ]
  },
  {
   "cell_type": "code",
   "execution_count": 377,
   "metadata": {},
   "outputs": [],
   "source": [
    "temp_amz.loc[temp_amz['main_category'] == 0, 'primary_categories'] = \"noise\""
   ]
  },
  {
   "cell_type": "code",
   "execution_count": 378,
   "metadata": {},
   "outputs": [
    {
     "name": "stdout",
     "output_type": "stream",
     "text": [
      "12273\n"
     ]
    }
   ],
   "source": [
    "#lowercasing the categories to prevent duplicate categories and removal of punctuations like \">>\", etc\n",
    "primary_category = list(temp_fk['product_category_tree'])\n",
    "for i in range(len(primary_category)):\n",
    "    primary_category[i] = primary_category[i].lower()\n",
    "    primary_category[i] = primary_category[i].replace(' ','')\n",
    "    primary_category[i] = primary_category[i].replace('[\"','')\n",
    "    primary_category[i] = primary_category[i].replace('\"]','')\n",
    "\n",
    "print(len(primary_category))"
   ]
  },
  {
   "cell_type": "code",
   "execution_count": 379,
   "metadata": {},
   "outputs": [
    {
     "name": "stdout",
     "output_type": "stream",
     "text": [
      "The length of the revised grouped categories are 249\n"
     ]
    }
   ],
   "source": [
    "#combining redundant categories\n",
    "from collections import Counter\n",
    "revised_categories = [None]*len(primary_category)\n",
    "\n",
    "for i in range(len(primary_category)):\n",
    "  if primary_category[i]==\"homeimprovement\" or primary_category[i]==\"homedecor&festiveneeds\" or primary_category[i]=='home&kitchen' or primary_category[i]==\"kitchen&dining\" or primary_category[i]==\"homefurnishing\" or primary_category[i]==\"furniture\" or primary_category[i]==\"homeentertainment\":\n",
    "    revised_categories[i] = 'homefurnishing/kitchen'\n",
    "  elif primary_category[i]=='pens&stationery':\n",
    "    revised_categories[i] = 'toys&schoolsupplies'\n",
    "  elif primary_category[i]=='gaming' or primary_category[i]=='cameras&accessories' or primary_category[i]=='computers' or primary_category[i]==\"mobiles&accessories\":\n",
    "    revised_categories[i]='electronics'\n",
    "  elif primary_category[i]=='health&personal care appliances' or primary_category[i]=='beautyandpersonalcare' or primary_category[i]=='eyewear' or primary_category[i]=='sunglasses' or primary_category[i]=='watches' or primary_category[i]=='bags,wallets&belts' or primary_category[i]=='health&personalcareappliances':\n",
    "    revised_categories[i]='personalaccessories'\n",
    "  else:\n",
    "    revised_categories[i] = primary_category[i]\n",
    "\n",
    "print(\"The length of the revised grouped categories are {}\".format(len(Counter(revised_categories))))\n",
    "\n",
    "temp_fk['primary_categories'] = revised_categories"
   ]
  },
  {
   "cell_type": "code",
   "execution_count": 380,
   "metadata": {},
   "outputs": [
    {
     "data": {
      "text/plain": [
       "0    clothing              \n",
       "1    homefurnishing/kitchen\n",
       "2    footwear              \n",
       "3    clothing              \n",
       "Name: primary_categories, dtype: object"
      ]
     },
     "execution_count": 380,
     "metadata": {},
     "output_type": "execute_result"
    }
   ],
   "source": [
    "temp_fk['primary_categories'][:4]"
   ]
  },
  {
   "cell_type": "code",
   "execution_count": 381,
   "metadata": {},
   "outputs": [
    {
     "name": "stdout",
     "output_type": "stream",
     "text": [
      "clothing 2858\n",
      "homefurnishing/kitchen 2000\n",
      "footwear 365\n",
      "petsupplies 30\n",
      "toys&schoolsupplies 273\n",
      "personalaccessories 440\n",
      "automotive 1009\n",
      "tools&hardware 333\n",
      "sports&fitness 108\n",
      "babycare 298\n",
      "electronics 1283\n",
      "jewellery 2946\n"
     ]
    }
   ],
   "source": [
    "temp_categories = list(dict.fromkeys(list(temp_fk.loc[:,'primary_categories'].values)))\n",
    "\n",
    "considered_category = []\n",
    "revised_category_count = {}\n",
    "noise = {}\n",
    "all_categories = {}\n",
    "\n",
    "\n",
    "for category in temp_categories:\n",
    "  count = np.sum(temp_fk.loc[:, 'primary_categories'].values == category)\n",
    "  all_categories[category]=count\n",
    "    #a category is considered to be a main category only if the frequency of a product in that category is at least 10\n",
    "  if(count>=10):\n",
    "    print(category,count)\n",
    "    revised_category_count[category] = count   \n",
    "  else:\n",
    "    noise[category] = count\n",
    "\n",
    "for i in range(len(revised_categories)):\n",
    "  if revised_categories[i] in revised_category_count:\n",
    "    considered_category.append(1)\n",
    "  else:\n",
    "    considered_category.append(0)"
   ]
  },
  {
   "cell_type": "code",
   "execution_count": 382,
   "metadata": {},
   "outputs": [
    {
     "data": {
      "text/plain": [
       "(11943, 8)"
      ]
     },
     "execution_count": 382,
     "metadata": {},
     "output_type": "execute_result"
    }
   ],
   "source": [
    "temp_fk['main_category'] = considered_category\n",
    "temp_fk= temp_fk[temp_fk['brand'].notna()]\n",
    "temp_fk = temp_fk[temp_fk['main_category']==1]\n",
    "temp_fk.shape"
   ]
  },
  {
   "cell_type": "code",
   "execution_count": 383,
   "metadata": {},
   "outputs": [],
   "source": [
    "raw_description = temp_fk[\"description\"].tolist()\n",
    "cleaned_description = clean_text(raw_description)\n",
    "temp_fk['cleaned_description'] = cleaned_description"
   ]
  },
  {
   "cell_type": "code",
   "execution_count": 384,
   "metadata": {},
   "outputs": [
    {
     "data": {
      "text/html": [
       "<div>\n",
       "<style scoped>\n",
       "    .dataframe tbody tr th:only-of-type {\n",
       "        vertical-align: middle;\n",
       "    }\n",
       "\n",
       "    .dataframe tbody tr th {\n",
       "        vertical-align: top;\n",
       "    }\n",
       "\n",
       "    .dataframe thead th {\n",
       "        text-align: right;\n",
       "    }\n",
       "</style>\n",
       "<table border=\"1\" class=\"dataframe\">\n",
       "  <thead>\n",
       "    <tr style=\"text-align: right;\">\n",
       "      <th></th>\n",
       "      <th>product_name in flipkart</th>\n",
       "      <th>product_category_tree</th>\n",
       "      <th>retail_price in flipkart</th>\n",
       "      <th>discounted_price in flipkart</th>\n",
       "      <th>description</th>\n",
       "      <th>brand</th>\n",
       "      <th>primary_categories</th>\n",
       "      <th>main_category</th>\n",
       "      <th>cleaned_description</th>\n",
       "    </tr>\n",
       "  </thead>\n",
       "  <tbody>\n",
       "    <tr>\n",
       "      <th>0</th>\n",
       "      <td>Alisha Solid Women's Cycling Shorts</td>\n",
       "      <td>[\"Clothing</td>\n",
       "      <td>999.0</td>\n",
       "      <td>379.0</td>\n",
       "      <td>Key Features of Alisha Solid Women's Cycling Shorts Cotton Lycra Navy, Red, Navy,Specifications of Alisha Solid Women's Cycling Shorts Shorts Details Number of Contents in Sales Package Pack of 3 Fabric Cotton Lycra Type Cycling Shorts General Details Pattern Solid Ideal For Women's Fabric Care Gentle Machine Wash in Lukewarm Water, Do Not Bleach Additional Details Style Code ALTHT_3P_21 In the Box 3 shorts</td>\n",
       "      <td>Alisha</td>\n",
       "      <td>clothing</td>\n",
       "      <td>1</td>\n",
       "      <td>key feature alisha solid woman cycling short cotton lycra navy red navyspecifications alisha solid woman cycling short short detail number content sale package pack fabric cotton lycra type cycling short general detail pattern solid ideal woman fabric care gentle machine wash lukewarm water bleach additional detail style code altht_p_ box short</td>\n",
       "    </tr>\n",
       "  </tbody>\n",
       "</table>\n",
       "</div>"
      ],
      "text/plain": [
       "              product_name in flipkart product_category_tree  \\\n",
       "0  Alisha Solid Women's Cycling Shorts  [\"Clothing             \n",
       "\n",
       "   retail_price in flipkart  discounted_price in flipkart  \\\n",
       "0  999.0                     379.0                          \n",
       "\n",
       "                                                                                                                                                                                                                                                                                                                                                                                                                  description  \\\n",
       "0  Key Features of Alisha Solid Women's Cycling Shorts Cotton Lycra Navy, Red, Navy,Specifications of Alisha Solid Women's Cycling Shorts Shorts Details Number of Contents in Sales Package Pack of 3 Fabric Cotton Lycra Type Cycling Shorts General Details Pattern Solid Ideal For Women's Fabric Care Gentle Machine Wash in Lukewarm Water, Do Not Bleach Additional Details Style Code ALTHT_3P_21 In the Box 3 shorts   \n",
       "\n",
       "    brand primary_categories  main_category  \\\n",
       "0  Alisha  clothing           1               \n",
       "\n",
       "                                                                                                                                                                                                                                                                                                                                          cleaned_description  \n",
       "0  key feature alisha solid woman cycling short cotton lycra navy red navyspecifications alisha solid woman cycling short short detail number content sale package pack fabric cotton lycra type cycling short general detail pattern solid ideal woman fabric care gentle machine wash lukewarm water bleach additional detail style code altht_p_ box short  "
      ]
     },
     "execution_count": 384,
     "metadata": {},
     "output_type": "execute_result"
    }
   ],
   "source": [
    "temp_fk.head(1)"
   ]
  },
  {
   "cell_type": "code",
   "execution_count": 385,
   "metadata": {},
   "outputs": [],
   "source": [
    "temp_amz.drop(['main_category','cleaned_description'], axis=1, inplace=True)\n",
    "temp_fk.drop(['main_category','cleaned_description'], axis=1, inplace=True)"
   ]
  },
  {
   "cell_type": "code",
   "execution_count": 404,
   "metadata": {},
   "outputs": [
    {
     "data": {
      "text/plain": [
       "['jewellery',\n",
       " 'clothing',\n",
       " 'homefurnishing/kitchen',\n",
       " 'electronics',\n",
       " 'automotive',\n",
       " 'personalaccessories',\n",
       " 'footwear',\n",
       " 'tools&hardware',\n",
       " 'babycare',\n",
       " 'toys&schoolsupplies',\n",
       " 'sports&fitness',\n",
       " 'petsupplies']"
      ]
     },
     "execution_count": 404,
     "metadata": {},
     "output_type": "execute_result"
    }
   ],
   "source": [
    "(temp_fk.primary_categories.value_counts()).index.to_list()"
   ]
  },
  {
   "cell_type": "code",
   "execution_count": 387,
   "metadata": {},
   "outputs": [],
   "source": [
    "temp_fk = temp_fk.drop('product_category_tree', axis=1)\n",
    "temp_fk = temp_fk.drop('description', axis=1)\n",
    "temp_amz = temp_amz.drop('description', axis=1)\n",
    "temp_amz = temp_amz.drop('product_category_tree', axis=1)"
   ]
  },
  {
   "cell_type": "code",
   "execution_count": 396,
   "metadata": {},
   "outputs": [],
   "source": [
    "# group jewellery products of amazon and flipkart and print in single table\n",
    "jewellery_amz = temp_amz[temp_amz['primary_categories']=='jewellery']\n",
    "jewellery_fk = temp_fk[temp_fk['primary_categories']=='jewellery']\n",
    "jewellery = pd.concat([jewellery_amz,jewellery_fk], axis=1)"
   ]
  },
  {
   "cell_type": "code",
   "execution_count": 398,
   "metadata": {},
   "outputs": [
    {
     "data": {
      "text/html": [
       "<div>\n",
       "<style scoped>\n",
       "    .dataframe tbody tr th:only-of-type {\n",
       "        vertical-align: middle;\n",
       "    }\n",
       "\n",
       "    .dataframe tbody tr th {\n",
       "        vertical-align: top;\n",
       "    }\n",
       "\n",
       "    .dataframe thead th {\n",
       "        text-align: right;\n",
       "    }\n",
       "</style>\n",
       "<table border=\"1\" class=\"dataframe\">\n",
       "  <thead>\n",
       "    <tr style=\"text-align: right;\">\n",
       "      <th></th>\n",
       "      <th>product_name in amazon</th>\n",
       "      <th>retail_price in amazon</th>\n",
       "      <th>discounted_price in amazon</th>\n",
       "      <th>brand</th>\n",
       "      <th>primary_categories</th>\n",
       "      <th>product_name in flipkart</th>\n",
       "      <th>retail_price in flipkart</th>\n",
       "      <th>discounted_price in flipkart</th>\n",
       "      <th>brand</th>\n",
       "      <th>primary_categories</th>\n",
       "    </tr>\n",
       "  </thead>\n",
       "  <tbody>\n",
       "    <tr>\n",
       "      <th>307</th>\n",
       "      <td>womaniya Alloy Bracelet</td>\n",
       "      <td>1992.0</td>\n",
       "      <td>1450.0</td>\n",
       "      <td>womaniya</td>\n",
       "      <td>jewellery</td>\n",
       "      <td>womaniya Alloy Bracelet</td>\n",
       "      <td>2000.0</td>\n",
       "      <td>1200.0</td>\n",
       "      <td>womaniya</td>\n",
       "      <td>jewellery</td>\n",
       "    </tr>\n",
       "  </tbody>\n",
       "</table>\n",
       "</div>"
      ],
      "text/plain": [
       "      product_name in amazon  retail_price in amazon  \\\n",
       "307  womaniya Alloy Bracelet  1992.0                   \n",
       "\n",
       "     discounted_price in amazon     brand primary_categories  \\\n",
       "307  1450.0                      womaniya  jewellery           \n",
       "\n",
       "    product_name in flipkart  retail_price in flipkart  \\\n",
       "307  womaniya Alloy Bracelet  2000.0                     \n",
       "\n",
       "     discounted_price in flipkart     brand primary_categories  \n",
       "307  1200.0                        womaniya  jewellery          "
      ]
     },
     "execution_count": 398,
     "metadata": {},
     "output_type": "execute_result"
    }
   ],
   "source": [
    "jewellery.head(1)"
   ]
  },
  {
   "cell_type": "code",
   "execution_count": 409,
   "metadata": {},
   "outputs": [
    {
     "data": {
      "text/html": [
       "<div>\n",
       "<style scoped>\n",
       "    .dataframe tbody tr th:only-of-type {\n",
       "        vertical-align: middle;\n",
       "    }\n",
       "\n",
       "    .dataframe tbody tr th {\n",
       "        vertical-align: top;\n",
       "    }\n",
       "\n",
       "    .dataframe thead th {\n",
       "        text-align: right;\n",
       "    }\n",
       "</style>\n",
       "<table border=\"1\" class=\"dataframe\">\n",
       "  <thead>\n",
       "    <tr style=\"text-align: right;\">\n",
       "      <th></th>\n",
       "      <th>product_name in amazon</th>\n",
       "      <th>retail_price in amazon</th>\n",
       "      <th>discounted_price in amazon</th>\n",
       "      <th>brand</th>\n",
       "      <th>primary_categories</th>\n",
       "      <th>product_name in flipkart</th>\n",
       "      <th>retail_price in flipkart</th>\n",
       "      <th>discounted_price in flipkart</th>\n",
       "      <th>brand</th>\n",
       "      <th>primary_categories</th>\n",
       "    </tr>\n",
       "  </thead>\n",
       "  <tbody>\n",
       "    <tr>\n",
       "      <th>0</th>\n",
       "      <td>Alisha Solid Women's Cycling Shorts</td>\n",
       "      <td>982.0</td>\n",
       "      <td>438.0</td>\n",
       "      <td>Alisha</td>\n",
       "      <td>clothing</td>\n",
       "      <td>Alisha Solid Women's Cycling Shorts</td>\n",
       "      <td>999.0</td>\n",
       "      <td>379.0</td>\n",
       "      <td>Alisha</td>\n",
       "      <td>clothing</td>\n",
       "    </tr>\n",
       "  </tbody>\n",
       "</table>\n",
       "</div>"
      ],
      "text/plain": [
       "                product_name in amazon  retail_price in amazon  \\\n",
       "0  Alisha Solid Women's Cycling Shorts  982.0                    \n",
       "\n",
       "   discounted_price in amazon   brand primary_categories  \\\n",
       "0  438.0                       Alisha  clothing            \n",
       "\n",
       "              product_name in flipkart  retail_price in flipkart  \\\n",
       "0  Alisha Solid Women's Cycling Shorts  999.0                      \n",
       "\n",
       "   discounted_price in flipkart   brand primary_categories  \n",
       "0  379.0                         Alisha  clothing           "
      ]
     },
     "execution_count": 409,
     "metadata": {},
     "output_type": "execute_result"
    }
   ],
   "source": [
    "# group clothing products of amazon and flipkart and print in single table\n",
    "clothing_amz = temp_amz[temp_amz['primary_categories']=='clothing']\n",
    "clothing_fk = temp_fk[temp_fk['primary_categories']=='clothing']\n",
    "clothing = pd.concat([clothing_amz,clothing_fk], axis=1)\n",
    "\n",
    "clothing.head(1)"
   ]
  },
  {
   "cell_type": "code",
   "execution_count": 410,
   "metadata": {},
   "outputs": [
    {
     "data": {
      "text/html": [
       "<div>\n",
       "<style scoped>\n",
       "    .dataframe tbody tr th:only-of-type {\n",
       "        vertical-align: middle;\n",
       "    }\n",
       "\n",
       "    .dataframe tbody tr th {\n",
       "        vertical-align: top;\n",
       "    }\n",
       "\n",
       "    .dataframe thead th {\n",
       "        text-align: right;\n",
       "    }\n",
       "</style>\n",
       "<table border=\"1\" class=\"dataframe\">\n",
       "  <thead>\n",
       "    <tr style=\"text-align: right;\">\n",
       "      <th></th>\n",
       "      <th>product_name in amazon</th>\n",
       "      <th>retail_price in amazon</th>\n",
       "      <th>discounted_price in amazon</th>\n",
       "      <th>brand</th>\n",
       "      <th>primary_categories</th>\n",
       "      <th>product_name in flipkart</th>\n",
       "      <th>retail_price in flipkart</th>\n",
       "      <th>discounted_price in flipkart</th>\n",
       "      <th>brand</th>\n",
       "      <th>primary_categories</th>\n",
       "    </tr>\n",
       "  </thead>\n",
       "  <tbody>\n",
       "    <tr>\n",
       "      <th>1</th>\n",
       "      <td>FabHomeDecor Fabric Double Sofa Bed</td>\n",
       "      <td>32143.0</td>\n",
       "      <td>29121.0</td>\n",
       "      <td>FabHomeDecor</td>\n",
       "      <td>homefurnishing/kitchen</td>\n",
       "      <td>FabHomeDecor Fabric Double Sofa Bed</td>\n",
       "      <td>32157.0</td>\n",
       "      <td>22646.0</td>\n",
       "      <td>FabHomeDecor</td>\n",
       "      <td>homefurnishing/kitchen</td>\n",
       "    </tr>\n",
       "  </tbody>\n",
       "</table>\n",
       "</div>"
      ],
      "text/plain": [
       "                product_name in amazon  retail_price in amazon  \\\n",
       "1  FabHomeDecor Fabric Double Sofa Bed  32143.0                  \n",
       "\n",
       "   discounted_price in amazon         brand      primary_categories  \\\n",
       "1  29121.0                     FabHomeDecor  homefurnishing/kitchen   \n",
       "\n",
       "              product_name in flipkart  retail_price in flipkart  \\\n",
       "1  FabHomeDecor Fabric Double Sofa Bed  32157.0                    \n",
       "\n",
       "   discounted_price in flipkart         brand      primary_categories  \n",
       "1  22646.0                       FabHomeDecor  homefurnishing/kitchen  "
      ]
     },
     "execution_count": 410,
     "metadata": {},
     "output_type": "execute_result"
    }
   ],
   "source": [
    "# group homefurnishing/kitchen products of amazon and flipkart and print in single table\n",
    "homefurnishing_amz = temp_amz[temp_amz['primary_categories']=='homefurnishing/kitchen']\n",
    "homefurnishing_fk = temp_fk[temp_fk['primary_categories']=='homefurnishing/kitchen']\n",
    "homefurnishing = pd.concat([homefurnishing_amz,homefurnishing_fk], axis=1)\n",
    "\n",
    "homefurnishing.head(1)"
   ]
  },
  {
   "cell_type": "code",
   "execution_count": 413,
   "metadata": {},
   "outputs": [
    {
     "data": {
      "text/html": [
       "<div>\n",
       "<style scoped>\n",
       "    .dataframe tbody tr th:only-of-type {\n",
       "        vertical-align: middle;\n",
       "    }\n",
       "\n",
       "    .dataframe tbody tr th {\n",
       "        vertical-align: top;\n",
       "    }\n",
       "\n",
       "    .dataframe thead th {\n",
       "        text-align: right;\n",
       "    }\n",
       "</style>\n",
       "<table border=\"1\" class=\"dataframe\">\n",
       "  <thead>\n",
       "    <tr style=\"text-align: right;\">\n",
       "      <th></th>\n",
       "      <th>product_name in amazon</th>\n",
       "      <th>retail_price in amazon</th>\n",
       "      <th>discounted_price in amazon</th>\n",
       "      <th>brand</th>\n",
       "      <th>primary_categories</th>\n",
       "      <th>product_name in flipkart</th>\n",
       "      <th>retail_price in flipkart</th>\n",
       "      <th>discounted_price in flipkart</th>\n",
       "      <th>brand</th>\n",
       "      <th>primary_categories</th>\n",
       "    </tr>\n",
       "  </thead>\n",
       "  <tbody>\n",
       "    <tr>\n",
       "      <th>78</th>\n",
       "      <td>CASEDEAL Microsoft Nokia lumia x2 Back Panel</td>\n",
       "      <td>1989.0</td>\n",
       "      <td>472.0</td>\n",
       "      <td>CASEDEAL</td>\n",
       "      <td>electronics</td>\n",
       "      <td>CASEDEAL Microsoft Nokia lumia x2 Back Panel</td>\n",
       "      <td>1999.0</td>\n",
       "      <td>380.0</td>\n",
       "      <td>CASEDEAL</td>\n",
       "      <td>electronics</td>\n",
       "    </tr>\n",
       "  </tbody>\n",
       "</table>\n",
       "</div>"
      ],
      "text/plain": [
       "                          product_name in amazon  retail_price in amazon  \\\n",
       "78  CASEDEAL Microsoft Nokia lumia x2 Back Panel  1989.0                   \n",
       "\n",
       "    discounted_price in amazon     brand primary_categories  \\\n",
       "78  472.0                       CASEDEAL  electronics         \n",
       "\n",
       "                        product_name in flipkart  retail_price in flipkart  \\\n",
       "78  CASEDEAL Microsoft Nokia lumia x2 Back Panel  1999.0                     \n",
       "\n",
       "    discounted_price in flipkart     brand primary_categories  \n",
       "78  380.0                         CASEDEAL  electronics        "
      ]
     },
     "execution_count": 413,
     "metadata": {},
     "output_type": "execute_result"
    }
   ],
   "source": [
    "# group electronics products of amazon and flipkart and print in single table\n",
    "electronics_amz = temp_amz[temp_amz['primary_categories']=='electronics']\n",
    "electronics_fk = temp_fk[temp_fk['primary_categories']=='electronics']\n",
    "electronics = pd.concat([electronics_amz,electronics_fk], axis=1)\n",
    "\n",
    "electronics.head(1)"
   ]
  },
  {
   "cell_type": "code",
   "execution_count": 412,
   "metadata": {},
   "outputs": [
    {
     "data": {
      "text/html": [
       "<div>\n",
       "<style scoped>\n",
       "    .dataframe tbody tr th:only-of-type {\n",
       "        vertical-align: middle;\n",
       "    }\n",
       "\n",
       "    .dataframe tbody tr th {\n",
       "        vertical-align: top;\n",
       "    }\n",
       "\n",
       "    .dataframe thead th {\n",
       "        text-align: right;\n",
       "    }\n",
       "</style>\n",
       "<table border=\"1\" class=\"dataframe\">\n",
       "  <thead>\n",
       "    <tr style=\"text-align: right;\">\n",
       "      <th></th>\n",
       "      <th>product_name in amazon</th>\n",
       "      <th>retail_price in amazon</th>\n",
       "      <th>discounted_price in amazon</th>\n",
       "      <th>brand</th>\n",
       "      <th>primary_categories</th>\n",
       "      <th>product_name in flipkart</th>\n",
       "      <th>retail_price in flipkart</th>\n",
       "      <th>discounted_price in flipkart</th>\n",
       "      <th>brand</th>\n",
       "      <th>primary_categories</th>\n",
       "    </tr>\n",
       "  </thead>\n",
       "  <tbody>\n",
       "    <tr>\n",
       "      <th>38</th>\n",
       "      <td>ANGELFISH SILK POTALI POTLI</td>\n",
       "      <td>983.0</td>\n",
       "      <td>482.0</td>\n",
       "      <td>Angelfish</td>\n",
       "      <td>personalaccessories</td>\n",
       "      <td>Angelfish Silk Potali Potli</td>\n",
       "      <td>999.0</td>\n",
       "      <td>399.0</td>\n",
       "      <td>Angelfish</td>\n",
       "      <td>personalaccessories</td>\n",
       "    </tr>\n",
       "  </tbody>\n",
       "</table>\n",
       "</div>"
      ],
      "text/plain": [
       "         product_name in amazon  retail_price in amazon  \\\n",
       "38  ANGELFISH SILK POTALI POTLI  983.0                    \n",
       "\n",
       "    discounted_price in amazon      brand   primary_categories  \\\n",
       "38  482.0                       Angelfish  personalaccessories   \n",
       "\n",
       "       product_name in flipkart  retail_price in flipkart  \\\n",
       "38  Angelfish Silk Potali Potli  999.0                      \n",
       "\n",
       "    discounted_price in flipkart      brand   primary_categories  \n",
       "38  399.0                         Angelfish  personalaccessories  "
      ]
     },
     "execution_count": 412,
     "metadata": {},
     "output_type": "execute_result"
    }
   ],
   "source": [
    "# group personalaccessories products of amazon and flipkart and print in single table\n",
    "personalaccessories_amz = temp_amz[temp_amz['primary_categories']=='personalaccessories']\n",
    "personalaccessories_fk = temp_fk[temp_fk['primary_categories']=='personalaccessories']\n",
    "personalaccessories = pd.concat([personalaccessories_amz,personalaccessories_fk], axis=1)\n",
    "\n",
    "personalaccessories.head(1)"
   ]
  },
  {
   "cell_type": "code",
   "execution_count": 414,
   "metadata": {},
   "outputs": [
    {
     "data": {
      "text/html": [
       "<div>\n",
       "<style scoped>\n",
       "    .dataframe tbody tr th:only-of-type {\n",
       "        vertical-align: middle;\n",
       "    }\n",
       "\n",
       "    .dataframe tbody tr th {\n",
       "        vertical-align: top;\n",
       "    }\n",
       "\n",
       "    .dataframe thead th {\n",
       "        text-align: right;\n",
       "    }\n",
       "</style>\n",
       "<table border=\"1\" class=\"dataframe\">\n",
       "  <thead>\n",
       "    <tr style=\"text-align: right;\">\n",
       "      <th></th>\n",
       "      <th>product_name in amazon</th>\n",
       "      <th>retail_price in amazon</th>\n",
       "      <th>discounted_price in amazon</th>\n",
       "      <th>brand</th>\n",
       "      <th>primary_categories</th>\n",
       "      <th>product_name in flipkart</th>\n",
       "      <th>retail_price in flipkart</th>\n",
       "      <th>discounted_price in flipkart</th>\n",
       "      <th>brand</th>\n",
       "      <th>primary_categories</th>\n",
       "    </tr>\n",
       "  </thead>\n",
       "  <tbody>\n",
       "    <tr>\n",
       "      <th>14</th>\n",
       "      <td>Freelance Vacuum Bottles 350 ml Bottle</td>\n",
       "      <td>690.0</td>\n",
       "      <td>822.0</td>\n",
       "      <td>Freelance</td>\n",
       "      <td>toys&amp;schoolsupplies</td>\n",
       "      <td>Freelance Vacuum Bottles 350 ml Bottle</td>\n",
       "      <td>699.0</td>\n",
       "      <td>699.0</td>\n",
       "      <td>Freelance</td>\n",
       "      <td>toys&amp;schoolsupplies</td>\n",
       "    </tr>\n",
       "  </tbody>\n",
       "</table>\n",
       "</div>"
      ],
      "text/plain": [
       "                    product_name in amazon  retail_price in amazon  \\\n",
       "14  Freelance Vacuum Bottles 350 ml Bottle  690.0                    \n",
       "\n",
       "    discounted_price in amazon      brand   primary_categories  \\\n",
       "14  822.0                       Freelance  toys&schoolsupplies   \n",
       "\n",
       "                  product_name in flipkart  retail_price in flipkart  \\\n",
       "14  Freelance Vacuum Bottles 350 ml Bottle  699.0                      \n",
       "\n",
       "    discounted_price in flipkart      brand   primary_categories  \n",
       "14  699.0                         Freelance  toys&schoolsupplies  "
      ]
     },
     "execution_count": 414,
     "metadata": {},
     "output_type": "execute_result"
    }
   ],
   "source": [
    "# group toys&schoolsupplies products of amazon and flipkart and print in single table\n",
    "toys_amz = temp_amz[temp_amz['primary_categories']=='toys&schoolsupplies']\n",
    "toys_fk = temp_fk[temp_fk['primary_categories']=='toys&schoolsupplies']\n",
    "toys = pd.concat([toys_amz,toys_fk], axis=1)\n",
    "\n",
    "toys.head(1)"
   ]
  },
  {
   "cell_type": "code",
   "execution_count": 415,
   "metadata": {},
   "outputs": [
    {
     "data": {
      "text/html": [
       "<div>\n",
       "<style scoped>\n",
       "    .dataframe tbody tr th:only-of-type {\n",
       "        vertical-align: middle;\n",
       "    }\n",
       "\n",
       "    .dataframe tbody tr th {\n",
       "        vertical-align: top;\n",
       "    }\n",
       "\n",
       "    .dataframe thead th {\n",
       "        text-align: right;\n",
       "    }\n",
       "</style>\n",
       "<table border=\"1\" class=\"dataframe\">\n",
       "  <thead>\n",
       "    <tr style=\"text-align: right;\">\n",
       "      <th></th>\n",
       "      <th>product_name in amazon</th>\n",
       "      <th>retail_price in amazon</th>\n",
       "      <th>discounted_price in amazon</th>\n",
       "      <th>brand</th>\n",
       "      <th>primary_categories</th>\n",
       "      <th>product_name in flipkart</th>\n",
       "      <th>retail_price in flipkart</th>\n",
       "      <th>discounted_price in flipkart</th>\n",
       "      <th>brand</th>\n",
       "      <th>primary_categories</th>\n",
       "    </tr>\n",
       "  </thead>\n",
       "  <tbody>\n",
       "    <tr>\n",
       "      <th>2</th>\n",
       "      <td>AW Bellies</td>\n",
       "      <td>991.0</td>\n",
       "      <td>551.0</td>\n",
       "      <td>AW</td>\n",
       "      <td>footwear</td>\n",
       "      <td>AW Bellies</td>\n",
       "      <td>999.0</td>\n",
       "      <td>499.0</td>\n",
       "      <td>AW</td>\n",
       "      <td>footwear</td>\n",
       "    </tr>\n",
       "  </tbody>\n",
       "</table>\n",
       "</div>"
      ],
      "text/plain": [
       "  product_name in amazon  retail_price in amazon  discounted_price in amazon  \\\n",
       "2  AW Bellies             991.0                   551.0                        \n",
       "\n",
       "  brand primary_categories product_name in flipkart  retail_price in flipkart  \\\n",
       "2  AW    footwear           AW Bellies               999.0                      \n",
       "\n",
       "   discounted_price in flipkart brand primary_categories  \n",
       "2  499.0                         AW    footwear           "
      ]
     },
     "execution_count": 415,
     "metadata": {},
     "output_type": "execute_result"
    }
   ],
   "source": [
    "# group footwear products of amazon and flipkart and print in single table\n",
    "footwear_amz = temp_amz[temp_amz['primary_categories']=='footwear']\n",
    "footwear_fk = temp_fk[temp_fk['primary_categories']=='footwear']\n",
    "footwear = pd.concat([footwear_amz,footwear_fk], axis=1)\n",
    "\n",
    "footwear.head(1)"
   ]
  },
  {
   "cell_type": "code",
   "execution_count": 420,
   "metadata": {},
   "outputs": [
    {
     "data": {
      "text/html": [
       "<div>\n",
       "<style scoped>\n",
       "    .dataframe tbody tr th:only-of-type {\n",
       "        vertical-align: middle;\n",
       "    }\n",
       "\n",
       "    .dataframe tbody tr th {\n",
       "        vertical-align: top;\n",
       "    }\n",
       "\n",
       "    .dataframe thead th {\n",
       "        text-align: right;\n",
       "    }\n",
       "</style>\n",
       "<table border=\"1\" class=\"dataframe\">\n",
       "  <thead>\n",
       "    <tr style=\"text-align: right;\">\n",
       "      <th></th>\n",
       "      <th>product_name in amazon</th>\n",
       "      <th>retail_price in amazon</th>\n",
       "      <th>discounted_price in amazon</th>\n",
       "      <th>brand</th>\n",
       "      <th>primary_categories</th>\n",
       "      <th>product_name in flipkart</th>\n",
       "      <th>retail_price in flipkart</th>\n",
       "      <th>discounted_price in flipkart</th>\n",
       "      <th>brand</th>\n",
       "      <th>primary_categories</th>\n",
       "    </tr>\n",
       "  </thead>\n",
       "  <tbody>\n",
       "    <tr>\n",
       "      <th>42</th>\n",
       "      <td>HIMMLISCH ST381 MAGNETIC SUN SHADE FOR MARUTI ALTO</td>\n",
       "      <td>6990.0</td>\n",
       "      <td>2313.0</td>\n",
       "      <td>Himmlisch</td>\n",
       "      <td>automotive</td>\n",
       "      <td>Himmlisch ST381 Magnetic Sun Shade For Maruti Alto</td>\n",
       "      <td>6999.0</td>\n",
       "      <td>1899.0</td>\n",
       "      <td>Himmlisch</td>\n",
       "      <td>automotive</td>\n",
       "    </tr>\n",
       "  </tbody>\n",
       "</table>\n",
       "</div>"
      ],
      "text/plain": [
       "                                product_name in amazon  \\\n",
       "42  HIMMLISCH ST381 MAGNETIC SUN SHADE FOR MARUTI ALTO   \n",
       "\n",
       "    retail_price in amazon  discounted_price in amazon      brand  \\\n",
       "42  6990.0                  2313.0                      Himmlisch   \n",
       "\n",
       "   primary_categories                            product_name in flipkart  \\\n",
       "42  automotive         Himmlisch ST381 Magnetic Sun Shade For Maruti Alto   \n",
       "\n",
       "    retail_price in flipkart  discounted_price in flipkart      brand  \\\n",
       "42  6999.0                    1899.0                        Himmlisch   \n",
       "\n",
       "   primary_categories  \n",
       "42  automotive         "
      ]
     },
     "execution_count": 420,
     "metadata": {},
     "output_type": "execute_result"
    }
   ],
   "source": [
    "# group automotive products of amazon and flipkart and print in single table\n",
    "automotive_amz = temp_amz[temp_amz['primary_categories']=='automotive']\n",
    "automotive_fk = temp_fk[temp_fk['primary_categories']=='automotive']\n",
    "automotive = pd.concat([automotive_amz,automotive_fk], axis=1)\n",
    "\n",
    "automotive.head(1)\n"
   ]
  },
  {
   "cell_type": "code",
   "execution_count": 421,
   "metadata": {},
   "outputs": [
    {
     "data": {
      "text/html": [
       "<div>\n",
       "<style scoped>\n",
       "    .dataframe tbody tr th:only-of-type {\n",
       "        vertical-align: middle;\n",
       "    }\n",
       "\n",
       "    .dataframe tbody tr th {\n",
       "        vertical-align: top;\n",
       "    }\n",
       "\n",
       "    .dataframe thead th {\n",
       "        text-align: right;\n",
       "    }\n",
       "</style>\n",
       "<table border=\"1\" class=\"dataframe\">\n",
       "  <thead>\n",
       "    <tr style=\"text-align: right;\">\n",
       "      <th></th>\n",
       "      <th>product_name in amazon</th>\n",
       "      <th>retail_price in amazon</th>\n",
       "      <th>discounted_price in amazon</th>\n",
       "      <th>brand</th>\n",
       "      <th>primary_categories</th>\n",
       "      <th>product_name in flipkart</th>\n",
       "      <th>retail_price in flipkart</th>\n",
       "      <th>discounted_price in flipkart</th>\n",
       "      <th>brand</th>\n",
       "      <th>primary_categories</th>\n",
       "    </tr>\n",
       "  </thead>\n",
       "  <tbody>\n",
       "    <tr>\n",
       "      <th>4</th>\n",
       "      <td>Sicons All Purpose Arnica Dog Shampoo</td>\n",
       "      <td>208.0</td>\n",
       "      <td>258.0</td>\n",
       "      <td>Sicons</td>\n",
       "      <td>petsupplies</td>\n",
       "      <td>Sicons All Purpose Arnica Dog Shampoo</td>\n",
       "      <td>220.0</td>\n",
       "      <td>210.0</td>\n",
       "      <td>Sicons</td>\n",
       "      <td>petsupplies</td>\n",
       "    </tr>\n",
       "  </tbody>\n",
       "</table>\n",
       "</div>"
      ],
      "text/plain": [
       "                  product_name in amazon  retail_price in amazon  \\\n",
       "4  Sicons All Purpose Arnica Dog Shampoo  208.0                    \n",
       "\n",
       "   discounted_price in amazon   brand primary_categories  \\\n",
       "4  258.0                       Sicons  petsupplies         \n",
       "\n",
       "                product_name in flipkart  retail_price in flipkart  \\\n",
       "4  Sicons All Purpose Arnica Dog Shampoo  220.0                      \n",
       "\n",
       "   discounted_price in flipkart   brand primary_categories  \n",
       "4  210.0                         Sicons  petsupplies        "
      ]
     },
     "execution_count": 421,
     "metadata": {},
     "output_type": "execute_result"
    }
   ],
   "source": [
    "# group petsupplies products of amazon and flipkart and print in single table\n",
    "petsupplies_amz = temp_amz[temp_amz['primary_categories']=='petsupplies']\n",
    "petsupplies_fk = temp_fk[temp_fk['primary_categories']=='petsupplies']\n",
    "petsupplies = pd.concat([petsupplies_amz,petsupplies_fk], axis=1)\n",
    "\n",
    "petsupplies.head(1)"
   ]
  },
  {
   "cell_type": "code",
   "execution_count": null,
   "metadata": {},
   "outputs": [],
   "source": []
  }
 ],
 "metadata": {
  "kernelspec": {
   "display_name": "Python 3.8.0 64-bit",
   "language": "python",
   "name": "python3"
  },
  "language_info": {
   "codemirror_mode": {
    "name": "ipython",
    "version": 3
   },
   "file_extension": ".py",
   "mimetype": "text/x-python",
   "name": "python",
   "nbconvert_exporter": "python",
   "pygments_lexer": "ipython3",
   "version": "3.8.0"
  },
  "orig_nbformat": 4,
  "vscode": {
   "interpreter": {
    "hash": "494deeb4eea7fb63b62f74ba02ace728543e0003fbb675bfec79f4f4980c3f04"
   }
  }
 },
 "nbformat": 4,
 "nbformat_minor": 2
}
